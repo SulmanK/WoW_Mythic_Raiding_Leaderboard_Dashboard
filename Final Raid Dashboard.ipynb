{
 "cells": [
  {
   "cell_type": "markdown",
   "metadata": {},
   "source": [
    "![WoW](assets/logo.jpg)"
   ]
  },
  {
   "cell_type": "markdown",
   "metadata": {},
   "source": [
    "## Objective\n",
    "* Deploy a dashboard of the mythic raid leaderboard\n",
    "\n",
    "## Background Information\n",
    "* World of Warcraft (WoW) is a massively multiplayer online role-playing game (MMORPG), which set records for the most subscribers in a video game. There are many gameplay aspects in WoW, but for this analysis we'll focus on the mythic raid leaderboard. Players team up in coordinating various strategies to take down bosses in a dungeon and are ranked accordingly. The leaderboard is split for the two factions playable in WoW: Alliance and Horde. \n",
    "\n",
    "## Dataset\n",
    "* The dataset was pulled real-time by using the Blizzard API. The dataframes are split for each raid and faction selected.\n",
    "\n",
    "## Process:\n",
    "* Dashboard deploying utilizing various python packages (Dash, Numpy, Matplotlib, Pandas, and Plotly).\n",
    "\n",
    "\n",
    "## Table of Contents:\n",
    "* Part I: Dashboard\n",
    "    * Produced wit h plotly-dash and deployed by heroku."
   ]
  },
  {
   "cell_type": "code",
   "execution_count": 2,
   "metadata": {},
   "outputs": [
    {
     "data": {
      "application/vnd.plotly.v1+json": {
       "config": {
        "plotlyServerURL": "https://plot.ly"
       },
       "data": [
        {
         "hoverlabel": {
          "namelength": 0
         },
         "hovertemplate": "Region=CN<br>Date=%{x}<br>Rank=%{y}",
         "legendgroup": "CN",
         "line": {
          "color": "rgb(102, 197, 204)",
          "dash": "solid"
         },
         "marker": {
          "line": {
           "color": "DarkSlateGrey",
           "width": 2
          },
          "size": 10
         },
         "mode": "markers",
         "name": "CN",
         "showlegend": true,
         "type": "scatter",
         "x": [
          "2018-09-23T20:18:37",
          "2018-09-29T12:33:47",
          "2018-10-16T11:11:46",
          "2018-10-16T14:24:55",
          "2018-10-18T16:36:42",
          "2018-10-19T14:42:47",
          "2018-10-26T03:23:12",
          "2018-10-27T15:07:40",
          "2018-10-29T13:04:56",
          "2018-10-29T15:39:05",
          "2018-10-29T15:49:35",
          "2018-10-29T15:53:21",
          "2018-10-30T05:50:30",
          "2018-10-30T12:30:24",
          "2018-10-30T13:50:03",
          "2018-10-30T14:10:49",
          "2018-10-31T08:12:00",
          "2018-11-01T08:29:53",
          "2018-11-01T13:32:22",
          "2018-11-01T13:57:14",
          "2018-11-02T06:32:21",
          "2018-11-02T17:40:09",
          "2018-11-03T02:32:49",
          "2018-11-03T09:35:56",
          "2018-11-03T12:31:48",
          "2018-11-03T17:32:09",
          "2018-11-04T08:31:42",
          "2018-11-04T12:32:30",
          "2018-11-04T13:16:16",
          "2018-11-04T15:35:01",
          "2018-11-05T13:49:17",
          "2018-11-05T14:00:22",
          "2018-11-05T15:07:03"
         ],
         "xaxis": "x",
         "y": [
          1,
          4,
          13,
          14,
          19,
          21,
          38,
          40,
          43,
          44,
          45,
          46,
          50,
          51,
          52,
          53,
          56,
          63,
          64,
          65,
          70,
          71,
          72,
          73,
          74,
          76,
          78,
          79,
          80,
          81,
          90,
          91,
          93
         ],
         "yaxis": "y"
        },
        {
         "hoverlabel": {
          "namelength": 0
         },
         "hovertemplate": "Region=US<br>Date=%{x}<br>Rank=%{y}",
         "legendgroup": "US",
         "line": {
          "color": "rgb(246, 207, 113)",
          "dash": "solid"
         },
         "marker": {
          "line": {
           "color": "DarkSlateGrey",
           "width": 2
          },
          "size": 10
         },
         "mode": "markers",
         "name": "US",
         "showlegend": true,
         "type": "scatter",
         "x": [
          "2018-09-28T10:05:32",
          "2018-10-04T09:54:02",
          "2018-10-10T01:20:33",
          "2018-10-10T12:55:03",
          "2018-10-18T05:12:48",
          "2018-10-21T01:16:17",
          "2018-10-21T09:28:51",
          "2018-10-21T11:49:22",
          "2018-10-22T03:33:35",
          "2018-10-23T01:34:35",
          "2018-10-23T02:40:30",
          "2018-10-23T23:35:29",
          "2018-10-24T02:13:11",
          "2018-10-25T01:04:46",
          "2018-10-26T05:14:31",
          "2018-10-31T00:05:35",
          "2018-10-31T06:35:40",
          "2018-11-01T01:47:48",
          "2018-11-02T01:33:01",
          "2018-11-03T13:21:58",
          "2018-11-04T01:20:33",
          "2018-11-05T11:08:46",
          "2018-11-05T11:36:08"
         ],
         "xaxis": "x",
         "y": [
          2,
          7,
          10,
          11,
          18,
          23,
          24,
          25,
          26,
          32,
          33,
          34,
          35,
          36,
          39,
          54,
          55,
          62,
          69,
          75,
          77,
          88,
          89
         ],
         "yaxis": "y"
        },
        {
         "hoverlabel": {
          "namelength": 0
         },
         "hovertemplate": "Region=EU<br>Date=%{x}<br>Rank=%{y}",
         "legendgroup": "EU",
         "line": {
          "color": "rgb(248, 156, 116)",
          "dash": "solid"
         },
         "marker": {
          "line": {
           "color": "DarkSlateGrey",
           "width": 2
          },
          "size": 10
         },
         "mode": "markers",
         "name": "EU",
         "showlegend": true,
         "type": "scatter",
         "x": [
          "2018-09-28T18:29:55",
          "2018-10-03T21:17:58",
          "2018-10-03T21:23:44",
          "2018-10-07T19:16:27",
          "2018-10-08T19:49:16",
          "2018-10-14T14:13:22",
          "2018-10-16T21:03:09",
          "2018-10-17T21:37:34",
          "2018-10-18T21:02:18",
          "2018-10-22T18:08:21",
          "2018-10-22T19:05:38",
          "2018-10-22T19:27:03",
          "2018-10-22T20:13:53",
          "2018-10-22T21:20:37",
          "2018-10-25T20:02:31",
          "2018-10-28T16:19:19",
          "2018-10-28T20:58:59",
          "2018-10-29T20:05:27",
          "2018-10-29T20:34:45",
          "2018-10-29T23:12:00",
          "2018-10-31T19:42:32",
          "2018-10-31T20:10:14",
          "2018-10-31T20:21:00",
          "2018-10-31T21:20:14",
          "2018-10-31T22:33:14",
          "2018-11-01T20:29:28",
          "2018-11-01T21:30:19",
          "2018-11-01T22:41:19",
          "2018-11-04T19:28:21",
          "2018-11-04T19:50:49",
          "2018-11-04T20:27:55",
          "2018-11-04T21:24:11",
          "2018-11-04T22:05:17",
          "2018-11-04T22:22:58",
          "2018-11-05T19:05:54",
          "2018-11-05T20:45:49",
          "2018-11-05T21:09:53",
          "2018-11-05T21:18:20",
          "2018-11-05T21:31:21",
          "2018-11-05T21:43:26"
         ],
         "xaxis": "x",
         "y": [
          3,
          5,
          6,
          8,
          9,
          12,
          15,
          17,
          20,
          27,
          28,
          29,
          30,
          31,
          37,
          41,
          42,
          47,
          48,
          49,
          57,
          58,
          59,
          60,
          61,
          66,
          67,
          68,
          82,
          83,
          84,
          85,
          86,
          87,
          95,
          96,
          97,
          98,
          99,
          100
         ],
         "yaxis": "y"
        },
        {
         "hoverlabel": {
          "namelength": 0
         },
         "hovertemplate": "Region=TW<br>Date=%{x}<br>Rank=%{y}",
         "legendgroup": "TW",
         "line": {
          "color": "rgb(220, 176, 242)",
          "dash": "solid"
         },
         "marker": {
          "line": {
           "color": "DarkSlateGrey",
           "width": 2
          },
          "size": 10
         },
         "mode": "markers",
         "name": "TW",
         "showlegend": true,
         "type": "scatter",
         "x": [
          "2018-10-17T13:31:59",
          "2018-11-05T14:48:21"
         ],
         "xaxis": "x",
         "y": [
          16,
          92
         ],
         "yaxis": "y"
        },
        {
         "hoverlabel": {
          "namelength": 0
         },
         "hovertemplate": "Region=KR<br>Date=%{x}<br>Rank=%{y}",
         "legendgroup": "KR",
         "line": {
          "color": "rgb(135, 197, 95)",
          "dash": "solid"
         },
         "marker": {
          "line": {
           "color": "DarkSlateGrey",
           "width": 2
          },
          "size": 10
         },
         "mode": "markers",
         "name": "KR",
         "showlegend": true,
         "type": "scatter",
         "x": [
          "2018-10-20T04:49:04",
          "2018-11-05T17:44:54"
         ],
         "xaxis": "x",
         "y": [
          22,
          94
         ],
         "yaxis": "y"
        },
        {
         "line": {
          "color": "#67093A"
         },
         "mode": "lines",
         "showlegend": false,
         "type": "scatter",
         "x": [
          "2018-09-23T20:18:37",
          "2018-09-28T10:05:32",
          "2018-09-28T18:29:55",
          "2018-09-29T12:33:47",
          "2018-10-03T21:17:58",
          "2018-10-03T21:23:44",
          "2018-10-04T09:54:02",
          "2018-10-07T19:16:27",
          "2018-10-08T19:49:16",
          "2018-10-10T01:20:33",
          "2018-10-10T12:55:03",
          "2018-10-14T14:13:22",
          "2018-10-16T11:11:46",
          "2018-10-16T14:24:55",
          "2018-10-16T21:03:09",
          "2018-10-17T13:31:59",
          "2018-10-17T21:37:34",
          "2018-10-18T05:12:48",
          "2018-10-18T16:36:42",
          "2018-10-18T21:02:18",
          "2018-10-19T14:42:47",
          "2018-10-20T04:49:04",
          "2018-10-21T01:16:17",
          "2018-10-21T09:28:51",
          "2018-10-21T11:49:22",
          "2018-10-22T03:33:35",
          "2018-10-22T18:08:21",
          "2018-10-22T19:05:38",
          "2018-10-22T19:27:03",
          "2018-10-22T20:13:53",
          "2018-10-22T21:20:37",
          "2018-10-23T01:34:35",
          "2018-10-23T02:40:30",
          "2018-10-23T23:35:29",
          "2018-10-24T02:13:11",
          "2018-10-25T01:04:46",
          "2018-10-25T20:02:31",
          "2018-10-26T03:23:12",
          "2018-10-26T05:14:31",
          "2018-10-27T15:07:40",
          "2018-10-28T16:19:19",
          "2018-10-28T20:58:59",
          "2018-10-29T13:04:56",
          "2018-10-29T15:39:05",
          "2018-10-29T15:49:35",
          "2018-10-29T15:53:21",
          "2018-10-29T20:05:27",
          "2018-10-29T20:34:45",
          "2018-10-29T23:12:00",
          "2018-10-30T05:50:30",
          "2018-10-30T12:30:24",
          "2018-10-30T13:50:03",
          "2018-10-30T14:10:49",
          "2018-10-31T00:05:35",
          "2018-10-31T06:35:40",
          "2018-10-31T08:12:00",
          "2018-10-31T19:42:32",
          "2018-10-31T20:10:14",
          "2018-10-31T20:21:00",
          "2018-10-31T21:20:14",
          "2018-10-31T22:33:14",
          "2018-11-01T01:47:48",
          "2018-11-01T08:29:53",
          "2018-11-01T13:32:22",
          "2018-11-01T13:57:14",
          "2018-11-01T20:29:28",
          "2018-11-01T21:30:19",
          "2018-11-01T22:41:19",
          "2018-11-02T01:33:01",
          "2018-11-02T06:32:21",
          "2018-11-02T17:40:09",
          "2018-11-03T02:32:49",
          "2018-11-03T09:35:56",
          "2018-11-03T12:31:48",
          "2018-11-03T13:21:58",
          "2018-11-03T17:32:09",
          "2018-11-04T01:20:33",
          "2018-11-04T08:31:42",
          "2018-11-04T12:32:30",
          "2018-11-04T13:16:16",
          "2018-11-04T15:35:01",
          "2018-11-04T19:28:21",
          "2018-11-04T19:50:49",
          "2018-11-04T20:27:55",
          "2018-11-04T21:24:11",
          "2018-11-04T22:05:17",
          "2018-11-04T22:22:58",
          "2018-11-05T11:08:46",
          "2018-11-05T11:36:08",
          "2018-11-05T13:49:17",
          "2018-11-05T14:00:22",
          "2018-11-05T14:48:21",
          "2018-11-05T15:07:03",
          "2018-11-05T17:44:54",
          "2018-11-05T19:05:54",
          "2018-11-05T20:45:49",
          "2018-11-05T21:09:53",
          "2018-11-05T21:18:20",
          "2018-11-05T21:31:21",
          "2018-11-05T21:43:26"
         ],
         "y": [
          1,
          2,
          3,
          4,
          5,
          6,
          7,
          8,
          9,
          10,
          11,
          12,
          13,
          14,
          15,
          16,
          17,
          18,
          19,
          20,
          21,
          22,
          23,
          24,
          25,
          26,
          27,
          28,
          29,
          30,
          31,
          32,
          33,
          34,
          35,
          36,
          37,
          38,
          39,
          40,
          41,
          42,
          43,
          44,
          45,
          46,
          47,
          48,
          49,
          50,
          51,
          52,
          53,
          54,
          55,
          56,
          57,
          58,
          59,
          60,
          61,
          62,
          63,
          64,
          65,
          66,
          67,
          68,
          69,
          70,
          71,
          72,
          73,
          74,
          75,
          76,
          77,
          78,
          79,
          80,
          81,
          82,
          83,
          84,
          85,
          86,
          87,
          88,
          89,
          90,
          91,
          92,
          93,
          94,
          95,
          96,
          97,
          98,
          99,
          100
         ]
        }
       ],
       "layout": {
        "legend": {
         "bgcolor": "#e5ecf6",
         "bordercolor": "Black",
         "borderwidth": 2,
         "font": {
          "color": "black",
          "family": "sans-serif",
          "size": 14
         },
         "title": {
          "text": "Region"
         },
         "tracegroupgap": 0,
         "traceorder": "normal",
         "x": 1,
         "y": 1
        },
        "margin": {
         "t": 60
        },
        "template": {
         "data": {
          "bar": [
           {
            "error_x": {
             "color": "#2a3f5f"
            },
            "error_y": {
             "color": "#2a3f5f"
            },
            "marker": {
             "line": {
              "color": "#E5ECF6",
              "width": 0.5
             }
            },
            "type": "bar"
           }
          ],
          "barpolar": [
           {
            "marker": {
             "line": {
              "color": "#E5ECF6",
              "width": 0.5
             }
            },
            "type": "barpolar"
           }
          ],
          "carpet": [
           {
            "aaxis": {
             "endlinecolor": "#2a3f5f",
             "gridcolor": "white",
             "linecolor": "white",
             "minorgridcolor": "white",
             "startlinecolor": "#2a3f5f"
            },
            "baxis": {
             "endlinecolor": "#2a3f5f",
             "gridcolor": "white",
             "linecolor": "white",
             "minorgridcolor": "white",
             "startlinecolor": "#2a3f5f"
            },
            "type": "carpet"
           }
          ],
          "choropleth": [
           {
            "colorbar": {
             "outlinewidth": 0,
             "ticks": ""
            },
            "type": "choropleth"
           }
          ],
          "contour": [
           {
            "colorbar": {
             "outlinewidth": 0,
             "ticks": ""
            },
            "colorscale": [
             [
              0,
              "#0d0887"
             ],
             [
              0.1111111111111111,
              "#46039f"
             ],
             [
              0.2222222222222222,
              "#7201a8"
             ],
             [
              0.3333333333333333,
              "#9c179e"
             ],
             [
              0.4444444444444444,
              "#bd3786"
             ],
             [
              0.5555555555555556,
              "#d8576b"
             ],
             [
              0.6666666666666666,
              "#ed7953"
             ],
             [
              0.7777777777777778,
              "#fb9f3a"
             ],
             [
              0.8888888888888888,
              "#fdca26"
             ],
             [
              1,
              "#f0f921"
             ]
            ],
            "type": "contour"
           }
          ],
          "contourcarpet": [
           {
            "colorbar": {
             "outlinewidth": 0,
             "ticks": ""
            },
            "type": "contourcarpet"
           }
          ],
          "heatmap": [
           {
            "colorbar": {
             "outlinewidth": 0,
             "ticks": ""
            },
            "colorscale": [
             [
              0,
              "#0d0887"
             ],
             [
              0.1111111111111111,
              "#46039f"
             ],
             [
              0.2222222222222222,
              "#7201a8"
             ],
             [
              0.3333333333333333,
              "#9c179e"
             ],
             [
              0.4444444444444444,
              "#bd3786"
             ],
             [
              0.5555555555555556,
              "#d8576b"
             ],
             [
              0.6666666666666666,
              "#ed7953"
             ],
             [
              0.7777777777777778,
              "#fb9f3a"
             ],
             [
              0.8888888888888888,
              "#fdca26"
             ],
             [
              1,
              "#f0f921"
             ]
            ],
            "type": "heatmap"
           }
          ],
          "heatmapgl": [
           {
            "colorbar": {
             "outlinewidth": 0,
             "ticks": ""
            },
            "colorscale": [
             [
              0,
              "#0d0887"
             ],
             [
              0.1111111111111111,
              "#46039f"
             ],
             [
              0.2222222222222222,
              "#7201a8"
             ],
             [
              0.3333333333333333,
              "#9c179e"
             ],
             [
              0.4444444444444444,
              "#bd3786"
             ],
             [
              0.5555555555555556,
              "#d8576b"
             ],
             [
              0.6666666666666666,
              "#ed7953"
             ],
             [
              0.7777777777777778,
              "#fb9f3a"
             ],
             [
              0.8888888888888888,
              "#fdca26"
             ],
             [
              1,
              "#f0f921"
             ]
            ],
            "type": "heatmapgl"
           }
          ],
          "histogram": [
           {
            "marker": {
             "colorbar": {
              "outlinewidth": 0,
              "ticks": ""
             }
            },
            "type": "histogram"
           }
          ],
          "histogram2d": [
           {
            "colorbar": {
             "outlinewidth": 0,
             "ticks": ""
            },
            "colorscale": [
             [
              0,
              "#0d0887"
             ],
             [
              0.1111111111111111,
              "#46039f"
             ],
             [
              0.2222222222222222,
              "#7201a8"
             ],
             [
              0.3333333333333333,
              "#9c179e"
             ],
             [
              0.4444444444444444,
              "#bd3786"
             ],
             [
              0.5555555555555556,
              "#d8576b"
             ],
             [
              0.6666666666666666,
              "#ed7953"
             ],
             [
              0.7777777777777778,
              "#fb9f3a"
             ],
             [
              0.8888888888888888,
              "#fdca26"
             ],
             [
              1,
              "#f0f921"
             ]
            ],
            "type": "histogram2d"
           }
          ],
          "histogram2dcontour": [
           {
            "colorbar": {
             "outlinewidth": 0,
             "ticks": ""
            },
            "colorscale": [
             [
              0,
              "#0d0887"
             ],
             [
              0.1111111111111111,
              "#46039f"
             ],
             [
              0.2222222222222222,
              "#7201a8"
             ],
             [
              0.3333333333333333,
              "#9c179e"
             ],
             [
              0.4444444444444444,
              "#bd3786"
             ],
             [
              0.5555555555555556,
              "#d8576b"
             ],
             [
              0.6666666666666666,
              "#ed7953"
             ],
             [
              0.7777777777777778,
              "#fb9f3a"
             ],
             [
              0.8888888888888888,
              "#fdca26"
             ],
             [
              1,
              "#f0f921"
             ]
            ],
            "type": "histogram2dcontour"
           }
          ],
          "mesh3d": [
           {
            "colorbar": {
             "outlinewidth": 0,
             "ticks": ""
            },
            "type": "mesh3d"
           }
          ],
          "parcoords": [
           {
            "line": {
             "colorbar": {
              "outlinewidth": 0,
              "ticks": ""
             }
            },
            "type": "parcoords"
           }
          ],
          "pie": [
           {
            "automargin": true,
            "type": "pie"
           }
          ],
          "scatter": [
           {
            "marker": {
             "colorbar": {
              "outlinewidth": 0,
              "ticks": ""
             }
            },
            "type": "scatter"
           }
          ],
          "scatter3d": [
           {
            "line": {
             "colorbar": {
              "outlinewidth": 0,
              "ticks": ""
             }
            },
            "marker": {
             "colorbar": {
              "outlinewidth": 0,
              "ticks": ""
             }
            },
            "type": "scatter3d"
           }
          ],
          "scattercarpet": [
           {
            "marker": {
             "colorbar": {
              "outlinewidth": 0,
              "ticks": ""
             }
            },
            "type": "scattercarpet"
           }
          ],
          "scattergeo": [
           {
            "marker": {
             "colorbar": {
              "outlinewidth": 0,
              "ticks": ""
             }
            },
            "type": "scattergeo"
           }
          ],
          "scattergl": [
           {
            "marker": {
             "colorbar": {
              "outlinewidth": 0,
              "ticks": ""
             }
            },
            "type": "scattergl"
           }
          ],
          "scattermapbox": [
           {
            "marker": {
             "colorbar": {
              "outlinewidth": 0,
              "ticks": ""
             }
            },
            "type": "scattermapbox"
           }
          ],
          "scatterpolar": [
           {
            "marker": {
             "colorbar": {
              "outlinewidth": 0,
              "ticks": ""
             }
            },
            "type": "scatterpolar"
           }
          ],
          "scatterpolargl": [
           {
            "marker": {
             "colorbar": {
              "outlinewidth": 0,
              "ticks": ""
             }
            },
            "type": "scatterpolargl"
           }
          ],
          "scatterternary": [
           {
            "marker": {
             "colorbar": {
              "outlinewidth": 0,
              "ticks": ""
             }
            },
            "type": "scatterternary"
           }
          ],
          "surface": [
           {
            "colorbar": {
             "outlinewidth": 0,
             "ticks": ""
            },
            "colorscale": [
             [
              0,
              "#0d0887"
             ],
             [
              0.1111111111111111,
              "#46039f"
             ],
             [
              0.2222222222222222,
              "#7201a8"
             ],
             [
              0.3333333333333333,
              "#9c179e"
             ],
             [
              0.4444444444444444,
              "#bd3786"
             ],
             [
              0.5555555555555556,
              "#d8576b"
             ],
             [
              0.6666666666666666,
              "#ed7953"
             ],
             [
              0.7777777777777778,
              "#fb9f3a"
             ],
             [
              0.8888888888888888,
              "#fdca26"
             ],
             [
              1,
              "#f0f921"
             ]
            ],
            "type": "surface"
           }
          ],
          "table": [
           {
            "cells": {
             "fill": {
              "color": "#EBF0F8"
             },
             "line": {
              "color": "white"
             }
            },
            "header": {
             "fill": {
              "color": "#C8D4E3"
             },
             "line": {
              "color": "white"
             }
            },
            "type": "table"
           }
          ]
         },
         "layout": {
          "annotationdefaults": {
           "arrowcolor": "#2a3f5f",
           "arrowhead": 0,
           "arrowwidth": 1
          },
          "coloraxis": {
           "colorbar": {
            "outlinewidth": 0,
            "ticks": ""
           }
          },
          "colorscale": {
           "diverging": [
            [
             0,
             "#8e0152"
            ],
            [
             0.1,
             "#c51b7d"
            ],
            [
             0.2,
             "#de77ae"
            ],
            [
             0.3,
             "#f1b6da"
            ],
            [
             0.4,
             "#fde0ef"
            ],
            [
             0.5,
             "#f7f7f7"
            ],
            [
             0.6,
             "#e6f5d0"
            ],
            [
             0.7,
             "#b8e186"
            ],
            [
             0.8,
             "#7fbc41"
            ],
            [
             0.9,
             "#4d9221"
            ],
            [
             1,
             "#276419"
            ]
           ],
           "sequential": [
            [
             0,
             "#0d0887"
            ],
            [
             0.1111111111111111,
             "#46039f"
            ],
            [
             0.2222222222222222,
             "#7201a8"
            ],
            [
             0.3333333333333333,
             "#9c179e"
            ],
            [
             0.4444444444444444,
             "#bd3786"
            ],
            [
             0.5555555555555556,
             "#d8576b"
            ],
            [
             0.6666666666666666,
             "#ed7953"
            ],
            [
             0.7777777777777778,
             "#fb9f3a"
            ],
            [
             0.8888888888888888,
             "#fdca26"
            ],
            [
             1,
             "#f0f921"
            ]
           ],
           "sequentialminus": [
            [
             0,
             "#0d0887"
            ],
            [
             0.1111111111111111,
             "#46039f"
            ],
            [
             0.2222222222222222,
             "#7201a8"
            ],
            [
             0.3333333333333333,
             "#9c179e"
            ],
            [
             0.4444444444444444,
             "#bd3786"
            ],
            [
             0.5555555555555556,
             "#d8576b"
            ],
            [
             0.6666666666666666,
             "#ed7953"
            ],
            [
             0.7777777777777778,
             "#fb9f3a"
            ],
            [
             0.8888888888888888,
             "#fdca26"
            ],
            [
             1,
             "#f0f921"
            ]
           ]
          },
          "colorway": [
           "#636efa",
           "#EF553B",
           "#00cc96",
           "#ab63fa",
           "#FFA15A",
           "#19d3f3",
           "#FF6692",
           "#B6E880",
           "#FF97FF",
           "#FECB52"
          ],
          "font": {
           "color": "#2a3f5f"
          },
          "geo": {
           "bgcolor": "white",
           "lakecolor": "white",
           "landcolor": "#E5ECF6",
           "showlakes": true,
           "showland": true,
           "subunitcolor": "white"
          },
          "hoverlabel": {
           "align": "left"
          },
          "hovermode": "closest",
          "mapbox": {
           "style": "light"
          },
          "paper_bgcolor": "white",
          "plot_bgcolor": "#E5ECF6",
          "polar": {
           "angularaxis": {
            "gridcolor": "white",
            "linecolor": "white",
            "ticks": ""
           },
           "bgcolor": "#E5ECF6",
           "radialaxis": {
            "gridcolor": "white",
            "linecolor": "white",
            "ticks": ""
           }
          },
          "scene": {
           "xaxis": {
            "backgroundcolor": "#E5ECF6",
            "gridcolor": "white",
            "gridwidth": 2,
            "linecolor": "white",
            "showbackground": true,
            "ticks": "",
            "zerolinecolor": "white"
           },
           "yaxis": {
            "backgroundcolor": "#E5ECF6",
            "gridcolor": "white",
            "gridwidth": 2,
            "linecolor": "white",
            "showbackground": true,
            "ticks": "",
            "zerolinecolor": "white"
           },
           "zaxis": {
            "backgroundcolor": "#E5ECF6",
            "gridcolor": "white",
            "gridwidth": 2,
            "linecolor": "white",
            "showbackground": true,
            "ticks": "",
            "zerolinecolor": "white"
           }
          },
          "shapedefaults": {
           "line": {
            "color": "#2a3f5f"
           }
          },
          "ternary": {
           "aaxis": {
            "gridcolor": "white",
            "linecolor": "white",
            "ticks": ""
           },
           "baxis": {
            "gridcolor": "white",
            "linecolor": "white",
            "ticks": ""
           },
           "bgcolor": "#E5ECF6",
           "caxis": {
            "gridcolor": "white",
            "linecolor": "white",
            "ticks": ""
           }
          },
          "title": {
           "x": 0.05
          },
          "xaxis": {
           "automargin": true,
           "gridcolor": "white",
           "linecolor": "white",
           "ticks": "",
           "title": {
            "standoff": 15
           },
           "zerolinecolor": "white",
           "zerolinewidth": 2
          },
          "yaxis": {
           "automargin": true,
           "gridcolor": "white",
           "linecolor": "white",
           "ticks": "",
           "title": {
            "standoff": 15
           },
           "zerolinecolor": "white",
           "zerolinewidth": 2
          }
         }
        },
        "title": {
         "font": {
          "size": 20
         },
         "text": "Mythic Raid Leaderboard Time series"
        },
        "xaxis": {
         "anchor": "y",
         "automargin": true,
         "domain": [
          0,
          1
         ],
         "gridcolor": "LightPink",
         "linecolor": "black",
         "linewidth": 1,
         "mirror": true,
         "showline": true,
         "tickcolor": "black",
         "ticklen": 10,
         "ticks": "outside",
         "tickwidth": 2,
         "title": {
          "font": {
           "size": 16
          },
          "text": "hello"
         },
         "zeroline": true,
         "zerolinecolor": "LightPink",
         "zerolinewidth": 2
        },
        "yaxis": {
         "anchor": "x",
         "domain": [
          0,
          1
         ],
         "gridcolor": "LightPink",
         "linecolor": "black",
         "linewidth": 2,
         "mirror": true,
         "showline": true,
         "tickcolor": "black",
         "ticklen": 10,
         "ticks": "outside",
         "tickwidth": 2,
         "title": {
          "font": {
           "size": 16
          },
          "text": "Rank"
         },
         "zeroline": true,
         "zerolinecolor": "LightPink",
         "zerolinewidth": 1
        }
       }
      },
      "text/html": [
       "<div>\n",
       "        \n",
       "        \n",
       "            <div id=\"1807e97f-7400-4d9b-8214-1ec93d8b8090\" class=\"plotly-graph-div\" style=\"height:525px; width:100%;\"></div>\n",
       "            <script type=\"text/javascript\">\n",
       "                require([\"plotly\"], function(Plotly) {\n",
       "                    window.PLOTLYENV=window.PLOTLYENV || {};\n",
       "                    \n",
       "                if (document.getElementById(\"1807e97f-7400-4d9b-8214-1ec93d8b8090\")) {\n",
       "                    Plotly.newPlot(\n",
       "                        '1807e97f-7400-4d9b-8214-1ec93d8b8090',\n",
       "                        [{\"hoverlabel\": {\"namelength\": 0}, \"hovertemplate\": \"Region=CN<br>Date=%{x}<br>Rank=%{y}\", \"legendgroup\": \"CN\", \"line\": {\"color\": \"rgb(102, 197, 204)\", \"dash\": \"solid\"}, \"marker\": {\"line\": {\"color\": \"DarkSlateGrey\", \"width\": 2}, \"size\": 10}, \"mode\": \"markers\", \"name\": \"CN\", \"showlegend\": true, \"type\": \"scatter\", \"x\": [\"2018-09-23T20:18:37\", \"2018-09-29T12:33:47\", \"2018-10-16T11:11:46\", \"2018-10-16T14:24:55\", \"2018-10-18T16:36:42\", \"2018-10-19T14:42:47\", \"2018-10-26T03:23:12\", \"2018-10-27T15:07:40\", \"2018-10-29T13:04:56\", \"2018-10-29T15:39:05\", \"2018-10-29T15:49:35\", \"2018-10-29T15:53:21\", \"2018-10-30T05:50:30\", \"2018-10-30T12:30:24\", \"2018-10-30T13:50:03\", \"2018-10-30T14:10:49\", \"2018-10-31T08:12:00\", \"2018-11-01T08:29:53\", \"2018-11-01T13:32:22\", \"2018-11-01T13:57:14\", \"2018-11-02T06:32:21\", \"2018-11-02T17:40:09\", \"2018-11-03T02:32:49\", \"2018-11-03T09:35:56\", \"2018-11-03T12:31:48\", \"2018-11-03T17:32:09\", \"2018-11-04T08:31:42\", \"2018-11-04T12:32:30\", \"2018-11-04T13:16:16\", \"2018-11-04T15:35:01\", \"2018-11-05T13:49:17\", \"2018-11-05T14:00:22\", \"2018-11-05T15:07:03\"], \"xaxis\": \"x\", \"y\": [1, 4, 13, 14, 19, 21, 38, 40, 43, 44, 45, 46, 50, 51, 52, 53, 56, 63, 64, 65, 70, 71, 72, 73, 74, 76, 78, 79, 80, 81, 90, 91, 93], \"yaxis\": \"y\"}, {\"hoverlabel\": {\"namelength\": 0}, \"hovertemplate\": \"Region=US<br>Date=%{x}<br>Rank=%{y}\", \"legendgroup\": \"US\", \"line\": {\"color\": \"rgb(246, 207, 113)\", \"dash\": \"solid\"}, \"marker\": {\"line\": {\"color\": \"DarkSlateGrey\", \"width\": 2}, \"size\": 10}, \"mode\": \"markers\", \"name\": \"US\", \"showlegend\": true, \"type\": \"scatter\", \"x\": [\"2018-09-28T10:05:32\", \"2018-10-04T09:54:02\", \"2018-10-10T01:20:33\", \"2018-10-10T12:55:03\", \"2018-10-18T05:12:48\", \"2018-10-21T01:16:17\", \"2018-10-21T09:28:51\", \"2018-10-21T11:49:22\", \"2018-10-22T03:33:35\", \"2018-10-23T01:34:35\", \"2018-10-23T02:40:30\", \"2018-10-23T23:35:29\", \"2018-10-24T02:13:11\", \"2018-10-25T01:04:46\", \"2018-10-26T05:14:31\", \"2018-10-31T00:05:35\", \"2018-10-31T06:35:40\", \"2018-11-01T01:47:48\", \"2018-11-02T01:33:01\", \"2018-11-03T13:21:58\", \"2018-11-04T01:20:33\", \"2018-11-05T11:08:46\", \"2018-11-05T11:36:08\"], \"xaxis\": \"x\", \"y\": [2, 7, 10, 11, 18, 23, 24, 25, 26, 32, 33, 34, 35, 36, 39, 54, 55, 62, 69, 75, 77, 88, 89], \"yaxis\": \"y\"}, {\"hoverlabel\": {\"namelength\": 0}, \"hovertemplate\": \"Region=EU<br>Date=%{x}<br>Rank=%{y}\", \"legendgroup\": \"EU\", \"line\": {\"color\": \"rgb(248, 156, 116)\", \"dash\": \"solid\"}, \"marker\": {\"line\": {\"color\": \"DarkSlateGrey\", \"width\": 2}, \"size\": 10}, \"mode\": \"markers\", \"name\": \"EU\", \"showlegend\": true, \"type\": \"scatter\", \"x\": [\"2018-09-28T18:29:55\", \"2018-10-03T21:17:58\", \"2018-10-03T21:23:44\", \"2018-10-07T19:16:27\", \"2018-10-08T19:49:16\", \"2018-10-14T14:13:22\", \"2018-10-16T21:03:09\", \"2018-10-17T21:37:34\", \"2018-10-18T21:02:18\", \"2018-10-22T18:08:21\", \"2018-10-22T19:05:38\", \"2018-10-22T19:27:03\", \"2018-10-22T20:13:53\", \"2018-10-22T21:20:37\", \"2018-10-25T20:02:31\", \"2018-10-28T16:19:19\", \"2018-10-28T20:58:59\", \"2018-10-29T20:05:27\", \"2018-10-29T20:34:45\", \"2018-10-29T23:12:00\", \"2018-10-31T19:42:32\", \"2018-10-31T20:10:14\", \"2018-10-31T20:21:00\", \"2018-10-31T21:20:14\", \"2018-10-31T22:33:14\", \"2018-11-01T20:29:28\", \"2018-11-01T21:30:19\", \"2018-11-01T22:41:19\", \"2018-11-04T19:28:21\", \"2018-11-04T19:50:49\", \"2018-11-04T20:27:55\", \"2018-11-04T21:24:11\", \"2018-11-04T22:05:17\", \"2018-11-04T22:22:58\", \"2018-11-05T19:05:54\", \"2018-11-05T20:45:49\", \"2018-11-05T21:09:53\", \"2018-11-05T21:18:20\", \"2018-11-05T21:31:21\", \"2018-11-05T21:43:26\"], \"xaxis\": \"x\", \"y\": [3, 5, 6, 8, 9, 12, 15, 17, 20, 27, 28, 29, 30, 31, 37, 41, 42, 47, 48, 49, 57, 58, 59, 60, 61, 66, 67, 68, 82, 83, 84, 85, 86, 87, 95, 96, 97, 98, 99, 100], \"yaxis\": \"y\"}, {\"hoverlabel\": {\"namelength\": 0}, \"hovertemplate\": \"Region=TW<br>Date=%{x}<br>Rank=%{y}\", \"legendgroup\": \"TW\", \"line\": {\"color\": \"rgb(220, 176, 242)\", \"dash\": \"solid\"}, \"marker\": {\"line\": {\"color\": \"DarkSlateGrey\", \"width\": 2}, \"size\": 10}, \"mode\": \"markers\", \"name\": \"TW\", \"showlegend\": true, \"type\": \"scatter\", \"x\": [\"2018-10-17T13:31:59\", \"2018-11-05T14:48:21\"], \"xaxis\": \"x\", \"y\": [16, 92], \"yaxis\": \"y\"}, {\"hoverlabel\": {\"namelength\": 0}, \"hovertemplate\": \"Region=KR<br>Date=%{x}<br>Rank=%{y}\", \"legendgroup\": \"KR\", \"line\": {\"color\": \"rgb(135, 197, 95)\", \"dash\": \"solid\"}, \"marker\": {\"line\": {\"color\": \"DarkSlateGrey\", \"width\": 2}, \"size\": 10}, \"mode\": \"markers\", \"name\": \"KR\", \"showlegend\": true, \"type\": \"scatter\", \"x\": [\"2018-10-20T04:49:04\", \"2018-11-05T17:44:54\"], \"xaxis\": \"x\", \"y\": [22, 94], \"yaxis\": \"y\"}, {\"line\": {\"color\": \"#67093A\"}, \"mode\": \"lines\", \"showlegend\": false, \"type\": \"scatter\", \"x\": [\"2018-09-23T20:18:37\", \"2018-09-28T10:05:32\", \"2018-09-28T18:29:55\", \"2018-09-29T12:33:47\", \"2018-10-03T21:17:58\", \"2018-10-03T21:23:44\", \"2018-10-04T09:54:02\", \"2018-10-07T19:16:27\", \"2018-10-08T19:49:16\", \"2018-10-10T01:20:33\", \"2018-10-10T12:55:03\", \"2018-10-14T14:13:22\", \"2018-10-16T11:11:46\", \"2018-10-16T14:24:55\", \"2018-10-16T21:03:09\", \"2018-10-17T13:31:59\", \"2018-10-17T21:37:34\", \"2018-10-18T05:12:48\", \"2018-10-18T16:36:42\", \"2018-10-18T21:02:18\", \"2018-10-19T14:42:47\", \"2018-10-20T04:49:04\", \"2018-10-21T01:16:17\", \"2018-10-21T09:28:51\", \"2018-10-21T11:49:22\", \"2018-10-22T03:33:35\", \"2018-10-22T18:08:21\", \"2018-10-22T19:05:38\", \"2018-10-22T19:27:03\", \"2018-10-22T20:13:53\", \"2018-10-22T21:20:37\", \"2018-10-23T01:34:35\", \"2018-10-23T02:40:30\", \"2018-10-23T23:35:29\", \"2018-10-24T02:13:11\", \"2018-10-25T01:04:46\", \"2018-10-25T20:02:31\", \"2018-10-26T03:23:12\", \"2018-10-26T05:14:31\", \"2018-10-27T15:07:40\", \"2018-10-28T16:19:19\", \"2018-10-28T20:58:59\", \"2018-10-29T13:04:56\", \"2018-10-29T15:39:05\", \"2018-10-29T15:49:35\", \"2018-10-29T15:53:21\", \"2018-10-29T20:05:27\", \"2018-10-29T20:34:45\", \"2018-10-29T23:12:00\", \"2018-10-30T05:50:30\", \"2018-10-30T12:30:24\", \"2018-10-30T13:50:03\", \"2018-10-30T14:10:49\", \"2018-10-31T00:05:35\", \"2018-10-31T06:35:40\", \"2018-10-31T08:12:00\", \"2018-10-31T19:42:32\", \"2018-10-31T20:10:14\", \"2018-10-31T20:21:00\", \"2018-10-31T21:20:14\", \"2018-10-31T22:33:14\", \"2018-11-01T01:47:48\", \"2018-11-01T08:29:53\", \"2018-11-01T13:32:22\", \"2018-11-01T13:57:14\", \"2018-11-01T20:29:28\", \"2018-11-01T21:30:19\", \"2018-11-01T22:41:19\", \"2018-11-02T01:33:01\", \"2018-11-02T06:32:21\", \"2018-11-02T17:40:09\", \"2018-11-03T02:32:49\", \"2018-11-03T09:35:56\", \"2018-11-03T12:31:48\", \"2018-11-03T13:21:58\", \"2018-11-03T17:32:09\", \"2018-11-04T01:20:33\", \"2018-11-04T08:31:42\", \"2018-11-04T12:32:30\", \"2018-11-04T13:16:16\", \"2018-11-04T15:35:01\", \"2018-11-04T19:28:21\", \"2018-11-04T19:50:49\", \"2018-11-04T20:27:55\", \"2018-11-04T21:24:11\", \"2018-11-04T22:05:17\", \"2018-11-04T22:22:58\", \"2018-11-05T11:08:46\", \"2018-11-05T11:36:08\", \"2018-11-05T13:49:17\", \"2018-11-05T14:00:22\", \"2018-11-05T14:48:21\", \"2018-11-05T15:07:03\", \"2018-11-05T17:44:54\", \"2018-11-05T19:05:54\", \"2018-11-05T20:45:49\", \"2018-11-05T21:09:53\", \"2018-11-05T21:18:20\", \"2018-11-05T21:31:21\", \"2018-11-05T21:43:26\"], \"y\": [1, 2, 3, 4, 5, 6, 7, 8, 9, 10, 11, 12, 13, 14, 15, 16, 17, 18, 19, 20, 21, 22, 23, 24, 25, 26, 27, 28, 29, 30, 31, 32, 33, 34, 35, 36, 37, 38, 39, 40, 41, 42, 43, 44, 45, 46, 47, 48, 49, 50, 51, 52, 53, 54, 55, 56, 57, 58, 59, 60, 61, 62, 63, 64, 65, 66, 67, 68, 69, 70, 71, 72, 73, 74, 75, 76, 77, 78, 79, 80, 81, 82, 83, 84, 85, 86, 87, 88, 89, 90, 91, 92, 93, 94, 95, 96, 97, 98, 99, 100]}],\n",
       "                        {\"legend\": {\"bgcolor\": \"#e5ecf6\", \"bordercolor\": \"Black\", \"borderwidth\": 2, \"font\": {\"color\": \"black\", \"family\": \"sans-serif\", \"size\": 14}, \"title\": {\"text\": \"Region\"}, \"tracegroupgap\": 0, \"traceorder\": \"normal\", \"x\": 1, \"y\": 1}, \"margin\": {\"t\": 60}, \"template\": {\"data\": {\"bar\": [{\"error_x\": {\"color\": \"#2a3f5f\"}, \"error_y\": {\"color\": \"#2a3f5f\"}, \"marker\": {\"line\": {\"color\": \"#E5ECF6\", \"width\": 0.5}}, \"type\": \"bar\"}], \"barpolar\": [{\"marker\": {\"line\": {\"color\": \"#E5ECF6\", \"width\": 0.5}}, \"type\": \"barpolar\"}], \"carpet\": [{\"aaxis\": {\"endlinecolor\": \"#2a3f5f\", \"gridcolor\": \"white\", \"linecolor\": \"white\", \"minorgridcolor\": \"white\", \"startlinecolor\": \"#2a3f5f\"}, \"baxis\": {\"endlinecolor\": \"#2a3f5f\", \"gridcolor\": \"white\", \"linecolor\": \"white\", \"minorgridcolor\": \"white\", \"startlinecolor\": \"#2a3f5f\"}, \"type\": \"carpet\"}], \"choropleth\": [{\"colorbar\": {\"outlinewidth\": 0, \"ticks\": \"\"}, \"type\": \"choropleth\"}], \"contour\": [{\"colorbar\": {\"outlinewidth\": 0, \"ticks\": \"\"}, \"colorscale\": [[0.0, \"#0d0887\"], [0.1111111111111111, \"#46039f\"], [0.2222222222222222, \"#7201a8\"], [0.3333333333333333, \"#9c179e\"], [0.4444444444444444, \"#bd3786\"], [0.5555555555555556, \"#d8576b\"], [0.6666666666666666, \"#ed7953\"], [0.7777777777777778, \"#fb9f3a\"], [0.8888888888888888, \"#fdca26\"], [1.0, \"#f0f921\"]], \"type\": \"contour\"}], \"contourcarpet\": [{\"colorbar\": {\"outlinewidth\": 0, \"ticks\": \"\"}, \"type\": \"contourcarpet\"}], \"heatmap\": [{\"colorbar\": {\"outlinewidth\": 0, \"ticks\": \"\"}, \"colorscale\": [[0.0, \"#0d0887\"], [0.1111111111111111, \"#46039f\"], [0.2222222222222222, \"#7201a8\"], [0.3333333333333333, \"#9c179e\"], [0.4444444444444444, \"#bd3786\"], [0.5555555555555556, \"#d8576b\"], [0.6666666666666666, \"#ed7953\"], [0.7777777777777778, \"#fb9f3a\"], [0.8888888888888888, \"#fdca26\"], [1.0, \"#f0f921\"]], \"type\": \"heatmap\"}], \"heatmapgl\": [{\"colorbar\": {\"outlinewidth\": 0, \"ticks\": \"\"}, \"colorscale\": [[0.0, \"#0d0887\"], [0.1111111111111111, \"#46039f\"], [0.2222222222222222, \"#7201a8\"], [0.3333333333333333, \"#9c179e\"], [0.4444444444444444, \"#bd3786\"], [0.5555555555555556, \"#d8576b\"], [0.6666666666666666, \"#ed7953\"], [0.7777777777777778, \"#fb9f3a\"], [0.8888888888888888, \"#fdca26\"], [1.0, \"#f0f921\"]], \"type\": \"heatmapgl\"}], \"histogram\": [{\"marker\": {\"colorbar\": {\"outlinewidth\": 0, \"ticks\": \"\"}}, \"type\": \"histogram\"}], \"histogram2d\": [{\"colorbar\": {\"outlinewidth\": 0, \"ticks\": \"\"}, \"colorscale\": [[0.0, \"#0d0887\"], [0.1111111111111111, \"#46039f\"], [0.2222222222222222, \"#7201a8\"], [0.3333333333333333, \"#9c179e\"], [0.4444444444444444, \"#bd3786\"], [0.5555555555555556, \"#d8576b\"], [0.6666666666666666, \"#ed7953\"], [0.7777777777777778, \"#fb9f3a\"], [0.8888888888888888, \"#fdca26\"], [1.0, \"#f0f921\"]], \"type\": \"histogram2d\"}], \"histogram2dcontour\": [{\"colorbar\": {\"outlinewidth\": 0, \"ticks\": \"\"}, \"colorscale\": [[0.0, \"#0d0887\"], [0.1111111111111111, \"#46039f\"], [0.2222222222222222, \"#7201a8\"], [0.3333333333333333, \"#9c179e\"], [0.4444444444444444, \"#bd3786\"], [0.5555555555555556, \"#d8576b\"], [0.6666666666666666, \"#ed7953\"], [0.7777777777777778, \"#fb9f3a\"], [0.8888888888888888, \"#fdca26\"], [1.0, \"#f0f921\"]], \"type\": \"histogram2dcontour\"}], \"mesh3d\": [{\"colorbar\": {\"outlinewidth\": 0, \"ticks\": \"\"}, \"type\": \"mesh3d\"}], \"parcoords\": [{\"line\": {\"colorbar\": {\"outlinewidth\": 0, \"ticks\": \"\"}}, \"type\": \"parcoords\"}], \"pie\": [{\"automargin\": true, \"type\": \"pie\"}], \"scatter\": [{\"marker\": {\"colorbar\": {\"outlinewidth\": 0, \"ticks\": \"\"}}, \"type\": \"scatter\"}], \"scatter3d\": [{\"line\": {\"colorbar\": {\"outlinewidth\": 0, \"ticks\": \"\"}}, \"marker\": {\"colorbar\": {\"outlinewidth\": 0, \"ticks\": \"\"}}, \"type\": \"scatter3d\"}], \"scattercarpet\": [{\"marker\": {\"colorbar\": {\"outlinewidth\": 0, \"ticks\": \"\"}}, \"type\": \"scattercarpet\"}], \"scattergeo\": [{\"marker\": {\"colorbar\": {\"outlinewidth\": 0, \"ticks\": \"\"}}, \"type\": \"scattergeo\"}], \"scattergl\": [{\"marker\": {\"colorbar\": {\"outlinewidth\": 0, \"ticks\": \"\"}}, \"type\": \"scattergl\"}], \"scattermapbox\": [{\"marker\": {\"colorbar\": {\"outlinewidth\": 0, \"ticks\": \"\"}}, \"type\": \"scattermapbox\"}], \"scatterpolar\": [{\"marker\": {\"colorbar\": {\"outlinewidth\": 0, \"ticks\": \"\"}}, \"type\": \"scatterpolar\"}], \"scatterpolargl\": [{\"marker\": {\"colorbar\": {\"outlinewidth\": 0, \"ticks\": \"\"}}, \"type\": \"scatterpolargl\"}], \"scatterternary\": [{\"marker\": {\"colorbar\": {\"outlinewidth\": 0, \"ticks\": \"\"}}, \"type\": \"scatterternary\"}], \"surface\": [{\"colorbar\": {\"outlinewidth\": 0, \"ticks\": \"\"}, \"colorscale\": [[0.0, \"#0d0887\"], [0.1111111111111111, \"#46039f\"], [0.2222222222222222, \"#7201a8\"], [0.3333333333333333, \"#9c179e\"], [0.4444444444444444, \"#bd3786\"], [0.5555555555555556, \"#d8576b\"], [0.6666666666666666, \"#ed7953\"], [0.7777777777777778, \"#fb9f3a\"], [0.8888888888888888, \"#fdca26\"], [1.0, \"#f0f921\"]], \"type\": \"surface\"}], \"table\": [{\"cells\": {\"fill\": {\"color\": \"#EBF0F8\"}, \"line\": {\"color\": \"white\"}}, \"header\": {\"fill\": {\"color\": \"#C8D4E3\"}, \"line\": {\"color\": \"white\"}}, \"type\": \"table\"}]}, \"layout\": {\"annotationdefaults\": {\"arrowcolor\": \"#2a3f5f\", \"arrowhead\": 0, \"arrowwidth\": 1}, \"coloraxis\": {\"colorbar\": {\"outlinewidth\": 0, \"ticks\": \"\"}}, \"colorscale\": {\"diverging\": [[0, \"#8e0152\"], [0.1, \"#c51b7d\"], [0.2, \"#de77ae\"], [0.3, \"#f1b6da\"], [0.4, \"#fde0ef\"], [0.5, \"#f7f7f7\"], [0.6, \"#e6f5d0\"], [0.7, \"#b8e186\"], [0.8, \"#7fbc41\"], [0.9, \"#4d9221\"], [1, \"#276419\"]], \"sequential\": [[0.0, \"#0d0887\"], [0.1111111111111111, \"#46039f\"], [0.2222222222222222, \"#7201a8\"], [0.3333333333333333, \"#9c179e\"], [0.4444444444444444, \"#bd3786\"], [0.5555555555555556, \"#d8576b\"], [0.6666666666666666, \"#ed7953\"], [0.7777777777777778, \"#fb9f3a\"], [0.8888888888888888, \"#fdca26\"], [1.0, \"#f0f921\"]], \"sequentialminus\": [[0.0, \"#0d0887\"], [0.1111111111111111, \"#46039f\"], [0.2222222222222222, \"#7201a8\"], [0.3333333333333333, \"#9c179e\"], [0.4444444444444444, \"#bd3786\"], [0.5555555555555556, \"#d8576b\"], [0.6666666666666666, \"#ed7953\"], [0.7777777777777778, \"#fb9f3a\"], [0.8888888888888888, \"#fdca26\"], [1.0, \"#f0f921\"]]}, \"colorway\": [\"#636efa\", \"#EF553B\", \"#00cc96\", \"#ab63fa\", \"#FFA15A\", \"#19d3f3\", \"#FF6692\", \"#B6E880\", \"#FF97FF\", \"#FECB52\"], \"font\": {\"color\": \"#2a3f5f\"}, \"geo\": {\"bgcolor\": \"white\", \"lakecolor\": \"white\", \"landcolor\": \"#E5ECF6\", \"showlakes\": true, \"showland\": true, \"subunitcolor\": \"white\"}, \"hoverlabel\": {\"align\": \"left\"}, \"hovermode\": \"closest\", \"mapbox\": {\"style\": \"light\"}, \"paper_bgcolor\": \"white\", \"plot_bgcolor\": \"#E5ECF6\", \"polar\": {\"angularaxis\": {\"gridcolor\": \"white\", \"linecolor\": \"white\", \"ticks\": \"\"}, \"bgcolor\": \"#E5ECF6\", \"radialaxis\": {\"gridcolor\": \"white\", \"linecolor\": \"white\", \"ticks\": \"\"}}, \"scene\": {\"xaxis\": {\"backgroundcolor\": \"#E5ECF6\", \"gridcolor\": \"white\", \"gridwidth\": 2, \"linecolor\": \"white\", \"showbackground\": true, \"ticks\": \"\", \"zerolinecolor\": \"white\"}, \"yaxis\": {\"backgroundcolor\": \"#E5ECF6\", \"gridcolor\": \"white\", \"gridwidth\": 2, \"linecolor\": \"white\", \"showbackground\": true, \"ticks\": \"\", \"zerolinecolor\": \"white\"}, \"zaxis\": {\"backgroundcolor\": \"#E5ECF6\", \"gridcolor\": \"white\", \"gridwidth\": 2, \"linecolor\": \"white\", \"showbackground\": true, \"ticks\": \"\", \"zerolinecolor\": \"white\"}}, \"shapedefaults\": {\"line\": {\"color\": \"#2a3f5f\"}}, \"ternary\": {\"aaxis\": {\"gridcolor\": \"white\", \"linecolor\": \"white\", \"ticks\": \"\"}, \"baxis\": {\"gridcolor\": \"white\", \"linecolor\": \"white\", \"ticks\": \"\"}, \"bgcolor\": \"#E5ECF6\", \"caxis\": {\"gridcolor\": \"white\", \"linecolor\": \"white\", \"ticks\": \"\"}}, \"title\": {\"x\": 0.05}, \"xaxis\": {\"automargin\": true, \"gridcolor\": \"white\", \"linecolor\": \"white\", \"ticks\": \"\", \"title\": {\"standoff\": 15}, \"zerolinecolor\": \"white\", \"zerolinewidth\": 2}, \"yaxis\": {\"automargin\": true, \"gridcolor\": \"white\", \"linecolor\": \"white\", \"ticks\": \"\", \"title\": {\"standoff\": 15}, \"zerolinecolor\": \"white\", \"zerolinewidth\": 2}}}, \"title\": {\"font\": {\"size\": 20}, \"text\": \"Mythic Raid Leaderboard Time series\"}, \"xaxis\": {\"anchor\": \"y\", \"automargin\": true, \"domain\": [0.0, 1.0], \"gridcolor\": \"LightPink\", \"linecolor\": \"black\", \"linewidth\": 1, \"mirror\": true, \"showline\": true, \"tickcolor\": \"black\", \"ticklen\": 10, \"ticks\": \"outside\", \"tickwidth\": 2, \"title\": {\"font\": {\"size\": 16}, \"text\": \"hello\"}, \"zeroline\": true, \"zerolinecolor\": \"LightPink\", \"zerolinewidth\": 2}, \"yaxis\": {\"anchor\": \"x\", \"domain\": [0.0, 1.0], \"gridcolor\": \"LightPink\", \"linecolor\": \"black\", \"linewidth\": 2, \"mirror\": true, \"showline\": true, \"tickcolor\": \"black\", \"ticklen\": 10, \"ticks\": \"outside\", \"tickwidth\": 2, \"title\": {\"font\": {\"size\": 16}, \"text\": \"Rank\"}, \"zeroline\": true, \"zerolinecolor\": \"LightPink\", \"zerolinewidth\": 1}},\n",
       "                        {\"responsive\": true}\n",
       "                    ).then(function(){\n",
       "                            \n",
       "var gd = document.getElementById('1807e97f-7400-4d9b-8214-1ec93d8b8090');\n",
       "var x = new MutationObserver(function (mutations, observer) {{\n",
       "        var display = window.getComputedStyle(gd).display;\n",
       "        if (!display || display === 'none') {{\n",
       "            console.log([gd, 'removed!']);\n",
       "            Plotly.purge(gd);\n",
       "            observer.disconnect();\n",
       "        }}\n",
       "}});\n",
       "\n",
       "// Listen for the removal of the full notebook cells\n",
       "var notebookContainer = gd.closest('#notebook-container');\n",
       "if (notebookContainer) {{\n",
       "    x.observe(notebookContainer, {childList: true});\n",
       "}}\n",
       "\n",
       "// Listen for the clearing of the current output cell\n",
       "var outputEl = gd.closest('.output');\n",
       "if (outputEl) {{\n",
       "    x.observe(outputEl, {childList: true});\n",
       "}}\n",
       "\n",
       "                        })\n",
       "                };\n",
       "                });\n",
       "            </script>\n",
       "        </div>"
      ]
     },
     "metadata": {},
     "output_type": "display_data"
    }
   ],
   "source": [
    "from dash.dependencies import Input, Output\n",
    "from pandas.io.json import json_normalize\n",
    "from wowapi import WowApi\n",
    "\n",
    "import base64\n",
    "import dash\n",
    "import dash_core_components as dcc\n",
    "import dash_html_components as html\n",
    "import dash_table\n",
    "import numpy as np\n",
    "import pandas as pd\n",
    "import plotly.express as px\n",
    "import plotly.graph_objects as go\n",
    "\n",
    "\n",
    "\n",
    "def get_Data(client_ID, secret_key, raid, faction):\n",
    "    \"\"\"Function to use a given api client ID and secret key, which returns separate dataframes depending on certain features\"\"\"\n",
    "    \n",
    "    # API Key\n",
    "    api = WowApi(client_ID, secret_key)\n",
    "    \n",
    "    # Get Raid Data\n",
    "    mythic_raid_leaderboard = api.get_mythic_raid_leaderboard('us', 'dynamic-us', raid, faction)\n",
    "    mythic_raid_leaderboard_json = mythic_raid_leaderboard['entries']\n",
    "    \n",
    "    # Convert to CSV\n",
    "    df = json_normalize(mythic_raid_leaderboard_json)\n",
    "    \n",
    "    # Data Preprocessing\n",
    "    ## Obtain the date from epoch\n",
    "    df['Date'] =  pd.to_datetime(df['timestamp'], unit = 'ms')\n",
    "\n",
    "    ## Drop Columns\n",
    "    drop_cols = ['guild.name','region',  'guild.realm.name.en_US',  'faction.type' , 'Date', 'rank']\n",
    "    df = df[drop_cols]\n",
    "\n",
    "    ## Rename Columns\n",
    "    rename_Columns = {'guild.name': 'Guild', 'region': 'Region',\n",
    "                      'guild.realm.name.en_US': 'Realm', 'faction.type': 'Faction',\n",
    "                      'rank': 'Rank'}\n",
    "    df.rename(columns = rename_Columns, inplace = True)\n",
    "\n",
    "    ## Changing values in columns\n",
    "    df['Region'] = df['Region'].map({'us': 'US', 'eu': 'EU', 'cn': 'CN', 'kr': 'KR', 'tw': 'TW'})\n",
    "    \n",
    "    return df\n",
    "\n",
    "\n",
    "\n",
    "\n",
    "def timeseries(df, x, y, code, title, xaxis):\n",
    "    \"Function to create a time series plot.\"\n",
    "    ts = px.line(df, x, y, \n",
    "                 color = code,\n",
    "                 color_discrete_sequence =  px.colors.qualitative.Pastel)\n",
    "    \n",
    "    ts.update_xaxes(showline = True, linewidth = 1, linecolor = 'black', \n",
    "                          mirror = True, gridcolor = 'LightPink', automargin = True, \n",
    "                          zeroline = True, zerolinewidth = 2, zerolinecolor = 'LightPink', \n",
    "                          ticks = \"outside\", tickwidth = 2, tickcolor = 'black', ticklen = 10,\n",
    "                          title = xaxis, title_font  =  dict(size  =  16)) \n",
    "    ts.update_yaxes(showline = True, linewidth = 2, linecolor = 'black', \n",
    "                          mirror = True, gridcolor = 'LightPink',\n",
    "                          zeroline = True, zerolinewidth = 1, zerolinecolor = 'LightPink', \n",
    "                          ticks = \"outside\", tickwidth = 2, tickcolor = 'black', ticklen = 10,\n",
    "                          title = 'Rank', title_font  =  dict(size  =  16))\n",
    "    \n",
    "    ts.update_traces(marker = dict(size = 10,\n",
    "                                   line = dict(width = 2,\n",
    "                                             color = 'DarkSlateGrey')), mode = 'markers')\n",
    "\n",
    "    ts.add_trace(\n",
    "        go.Scatter(\n",
    "            x = x ,\n",
    "            y = y,\n",
    "            mode = \"lines\",\n",
    "            line = go.scatter.Line(color = '#67093A'),\n",
    "            showlegend = False)\n",
    ")\n",
    "    \n",
    "    \n",
    "    ts.update_layout(\n",
    "        title = title,\n",
    "        title_font  =  dict(size  =  20),\n",
    "        legend = dict(\n",
    "            x = 1,\n",
    "            y = 1,\n",
    "            traceorder = \"normal\",\n",
    "            font = dict(\n",
    "                family = \"sans-serif\",\n",
    "                size = 14,\n",
    "                color = \"black\"\n",
    "            ),\n",
    "            bgcolor = \"#e5ecf6\",\n",
    "            bordercolor = \"Black\",\n",
    "            borderwidth = 2\n",
    "        )\n",
    "    )\n",
    "    return ts\n",
    "\n",
    "\n",
    "uldir_alliance = get_Data(client_ID = 'c21b7526b481437199fe2f412b267412', secret_key = 'nOiBABqC2wJF71GcWZmcShXea1tSBT4a',\n",
    "raid = 'uldir', faction = 'alliance')\n",
    "\n",
    "data = uldir_alliance\n",
    "\n",
    "figure = timeseries(df = data, x = data['Date'],\n",
    "           y = data['Rank'], code = data['Region'],\n",
    "           title = 'Mythic Raid Leaderboard Time series', xaxis = 'hello')\n",
    "\n",
    "figure.show()"
   ]
  },
  {
   "cell_type": "code",
   "execution_count": null,
   "metadata": {},
   "outputs": [],
   "source": [
    "from dash.dependencies import Input, Output\n",
    "from pandas.io.json import json_normalize\n",
    "from wowapi import WowApi\n",
    "\n",
    "import base64\n",
    "import dash\n",
    "import dash_core_components as dcc\n",
    "import dash_html_components as html\n",
    "import dash_table\n",
    "import numpy as np\n",
    "import pandas as pd\n",
    "import plotly.express as px\n",
    "import plotly.graph_objects as go\n",
    "\n",
    "\n",
    "##### Getting into the API and data\n",
    "def get_Data(client_ID, secret_key, raid, faction):\n",
    "    \"\"\"Function to use a given api client ID and secret key, which returns separate dataframes depending on certain features\"\"\"\n",
    "    \n",
    "    # API Key\n",
    "    api = WowApi(client_ID, secret_key)\n",
    "    \n",
    "    # Get Raid Data\n",
    "    mythic_raid_leaderboard = api.get_mythic_raid_leaderboard('us', 'dynamic-us', raid, faction)\n",
    "    mythic_raid_leaderboard_json = mythic_raid_leaderboard['entries']\n",
    "    \n",
    "    # Convert to CSV\n",
    "    df = json_normalize(mythic_raid_leaderboard_json)\n",
    "    \n",
    "    # Data Preprocessing\n",
    "    ## Obtain the date from epoch\n",
    "    df['Date'] =  pd.to_datetime(df['timestamp'], unit = 'ms')\n",
    "\n",
    "    ## Drop Columns\n",
    "    drop_cols = ['guild.name','region',  'guild.realm.name.en_US',  'faction.type' , 'Date', 'rank']\n",
    "    df = df[drop_cols]\n",
    "\n",
    "    ## Rename Columns\n",
    "    rename_Columns = {'guild.name': 'Guild', 'region': 'Region',\n",
    "                      'guild.realm.name.en_US': 'Realm', 'faction.type': 'Faction',\n",
    "                      'rank': 'Rank'}\n",
    "    df.rename(columns = rename_Columns, inplace = True)\n",
    "\n",
    "    ## Changing values in columns\n",
    "    df['Region'] = df['Region'].map({'us': 'US', 'eu': 'EU', 'cn': 'CN', 'kr': 'KR', 'tw': 'TW'})\n",
    "    \n",
    "    return df\n",
    "\n",
    "\n",
    "############### Datatable\n",
    "def datatable_leaderboards(raid_data, color, border, header):\n",
    "    datatable = dash_table.DataTable( \n",
    "                id = 'typing_formatting_1',\n",
    "                data = raid_data.to_dict('records'),\n",
    "                columns =\n",
    "                [\n",
    "                    {\n",
    "                        'id': 'Guild',\n",
    "                        'name': 'Guild',\n",
    "                        'type': 'text'\n",
    "                    }, \n",
    "\n",
    "                    {\n",
    "                        'id': 'Region',\n",
    "                        'name': 'Region',\n",
    "                        'type': 'text'\n",
    "                    }, \n",
    "\n",
    "                    {\n",
    "                        'id': 'Realm',\n",
    "                        'name': 'Realm',\n",
    "                        'type': 'text'\n",
    "                    }, \n",
    "\n",
    "                    {\n",
    "                        'id': 'Date',\n",
    "                        'name': 'Date',\n",
    "                        'type': 'text'\n",
    "                    }, \n",
    "\n",
    "                    {\n",
    "                        'id': 'Rank',\n",
    "                        'name': 'Rank',\n",
    "                        'type': 'numeric',\n",
    "                    },  \n",
    "\n",
    "                ],\n",
    "\n",
    "    ### Highlight Cells based on conditions - first, second, and third row\n",
    "                style_data_conditional =\n",
    "                [\n",
    "                    {\n",
    "                        \"if\": {\"row_index\": 0},\n",
    "                        \"backgroundColor\": \"#FFD700\",\n",
    "                        'color': 'black'\n",
    "\n",
    "                },\n",
    "\n",
    "                    {\n",
    "                        \"if\": {\"row_index\": 1},\n",
    "                        \"backgroundColor\": \"#C0C0C0\",\n",
    "                        'color': 'black'\n",
    "\n",
    "                    },\n",
    "\n",
    "                    {\n",
    "                        \"if\": {\"row_index\": 2},\n",
    "                        \"backgroundColor\": \"#CD7F32\",\n",
    "                        'color': 'black'\n",
    "\n",
    "                    }\n",
    "                ],\n",
    "\n",
    "    ### Formatting the data/headers cells\n",
    "                style_cell = {'backgroundColor': color, 'font-family': 'helvetica' },\n",
    "\n",
    "                style_data = {'border': border,\n",
    "                              'font-size': 18, 'font-family': 'helvetica' \n",
    "                             },\n",
    "\n",
    "                style_header = { 'border': header,\n",
    "                               'font-size': 21, 'font-family': 'helvetica' \n",
    "                               },\n",
    "                editable = True,\n",
    "                filter_action = \"native\",\n",
    "                sort_action = \"native\",\n",
    "                sort_mode = \"multi\",\n",
    "                column_selectable = \"single\",\n",
    "                row_selectable = \"multi\",\n",
    "                row_deletable = True,\n",
    "                selected_columns = [],\n",
    "                selected_rows = [],\n",
    "                page_action = \"native\",\n",
    "                page_current = 0,\n",
    "                page_size = 100,\n",
    "            )\n",
    "    return datatable\n",
    "\n",
    "\n",
    "################# Bar Plots\n",
    "def bar_cluster(df, x, code, title, xaxis):\n",
    "    \"\"\"Function to create a histogram.\"\"\"\n",
    "    bar = px.histogram(df, x,\n",
    "                 color = code,\n",
    "                 color_discrete_sequence =  px.colors.qualitative.Pastel)\n",
    "    \n",
    "    bar.update_xaxes(showline = True, linewidth = 1, linecolor = 'black', \n",
    "                          mirror = True, gridcolor = 'LightPink', automargin = True, \n",
    "                          zeroline = True, zerolinewidth = 2, zerolinecolor = 'LightPink', \n",
    "                          ticks = \"outside\", tickwidth = 2, tickcolor = 'black', ticklen = 10,\n",
    "                          title = xaxis, title_font  =  dict(size  =  16)) \n",
    "    bar.update_yaxes(showline = True, linewidth = 2, linecolor = 'black', \n",
    "                          mirror = True, gridcolor = 'LightPink',\n",
    "                          zeroline = True, zerolinewidth = 1, zerolinecolor = 'LightPink', \n",
    "                          ticks = \"outside\", tickwidth = 2, tickcolor = 'black', ticklen = 10,\n",
    "                          title = 'Number of Guilds', title_font  =  dict(size  =  16))\n",
    "    \n",
    "    \n",
    "    bar.update_layout(\n",
    "        title = title,\n",
    "        title_font  =  dict(size  =  20),\n",
    "        legend = dict(\n",
    "            x = 1,\n",
    "            y = 1,\n",
    "            traceorder = \"normal\",\n",
    "            font = dict(\n",
    "                family = \"sans-serif\",\n",
    "                size = 14,\n",
    "                color = \"black\"\n",
    "            ),\n",
    "            bgcolor = \"#e5ecf6\",\n",
    "            bordercolor = \"Black\",\n",
    "            borderwidth = 2\n",
    "        )\n",
    "    )\n",
    "    return bar\n",
    "\n",
    "\n",
    "\n",
    "\n",
    "######################## Time series\n",
    "def timeseries(df, x, y, code, title, xaxis):\n",
    "    \"Function to create a time series plot.\"\n",
    "    ts = px.line(df, x, y, \n",
    "                 color = code,\n",
    "                 color_discrete_sequence =  px.colors.qualitative.Pastel)\n",
    "    \n",
    "    ts.update_xaxes(showline = True, linewidth = 1, linecolor = 'black', \n",
    "                          mirror = True, gridcolor = 'LightPink', automargin = True, \n",
    "                          zeroline = True, zerolinewidth = 2, zerolinecolor = 'LightPink', \n",
    "                          ticks = \"outside\", tickwidth = 2, tickcolor = 'black', ticklen = 10,\n",
    "                          title = xaxis, title_font  =  dict(size  =  16)) \n",
    "    ts.update_yaxes(showline = True, linewidth = 2, linecolor = 'black', \n",
    "                          mirror = True, gridcolor = 'LightPink',\n",
    "                          zeroline = True, zerolinewidth = 1, zerolinecolor = 'LightPink', \n",
    "                          ticks = \"outside\", tickwidth = 2, tickcolor = 'black', ticklen = 10,\n",
    "                          title = 'Rank', title_font  =  dict(size  =  16))\n",
    "    \n",
    "    ts.update_traces(marker = dict(size = 10,\n",
    "                                   line = dict(width = 2,\n",
    "                                             color = 'DarkSlateGrey')), mode = 'markers')\n",
    "\n",
    "    ts.add_trace(\n",
    "        go.Scatter(\n",
    "            x = x ,\n",
    "            y = y,\n",
    "            mode = \"lines\",\n",
    "            line = go.scatter.Line(color = '#67093A'),\n",
    "            showlegend = False)\n",
    ")\n",
    "    \n",
    "    \n",
    "    ts.update_layout(\n",
    "        title = title,\n",
    "        title_font  =  dict(size  =  20),\n",
    "        legend = dict(\n",
    "            x = 1,\n",
    "            y = 1,\n",
    "            traceorder = \"normal\",\n",
    "            font = dict(\n",
    "                family = \"sans-serif\",\n",
    "                size = 14,\n",
    "                color = \"black\"\n",
    "            ),\n",
    "            bgcolor = \"#e5ecf6\",\n",
    "            bordercolor = \"Black\",\n",
    "            borderwidth = 2\n",
    "        )\n",
    "    )\n",
    "    return ts\n",
    "\n",
    "\n",
    "\n",
    "\n",
    "\n",
    "## Importing Logo and encoding it\n",
    "image1_filename = 'assets/logo.jpg' \n",
    "encoded_image1 = base64.b64encode(\n",
    "    open(image1_filename, 'rb').read())\n",
    "\n",
    "image2_filename = 'assets/ally_logo.jpg' \n",
    "encoded_image2 = base64.b64encode(\n",
    "    open(image2_filename, 'rb').read())\n",
    "\n",
    "image3_filename = 'assets/horde_logo.jpg' \n",
    "encoded_image3 = base64.b64encode(\n",
    "    open(image3_filename, 'rb').read())\n",
    "\n",
    "\n",
    "\n",
    "############################### DASHBOARD ###################\n",
    "\n",
    "\n",
    "\n",
    "external_stylesheets = ['https://codepen.io/chriddyp/pen/bWLwgP.css']\n",
    "app = dash.Dash(__name__, external_stylesheets=external_stylesheets)\n",
    "\n",
    "# Set server for web app\n",
    "server = app.server\n",
    "app.config['suppress_callback_exceptions'] = True\n",
    "\n",
    "\n",
    "# Define layout of the app \n",
    "app.layout = html.Div([\n",
    "    html.Div(\n",
    "        [\n",
    "            html.Div(id = 'background_image', \n",
    "                            \n",
    "             style = {'display': 'flex', 'align-items': 'center',\n",
    "                                 'justify-content': 'center'},\n",
    "                    ),\n",
    "            \n",
    "                     html.H1('World of Warcraft: Battle For Azeroth Mythic Raid Dashboard'),\n",
    "        ], style = {\"border-bottom\": \"2px black ridge\"}\n",
    "    ),\n",
    "    \n",
    "    html.Div([\n",
    "        dcc.Dropdown(\n",
    "            id = 'Raids',\n",
    "            options = [\n",
    "                {'label': 'Uldir', 'value': 'U'},\n",
    "                {'label': 'Battle of Dazar''alor', 'value': 'BOD'},\n",
    "                {'label': 'Crucible of Storms', 'value': 'COS'},\n",
    "                {'label': 'The Eternal Palace', 'value': 'TEP'},\n",
    "                {'label': 'Ny''alotha, the Waking City', 'value': 'NTWC'},\n",
    "            ],\n",
    "            value = 'Raids',\n",
    "            placeholder = \"Select a Raid\",\n",
    "        ),\n",
    "        \n",
    "        dcc.Tabs(\n",
    "            id = \"tabs-with-classes\",\n",
    "            value = 'tab-2',\n",
    "            parent_className = 'custom-tabs',\n",
    "            className = 'custom-tabs-container',\n",
    "            children = [\n",
    "                dcc.Tab(\n",
    "                    label = 'Alliance',\n",
    "                    value = 'tab-1-example',\n",
    "                    className = 'custom-tab',\n",
    "                    selected_className = 'custom-tab--selected'\n",
    "                ),\n",
    "                dcc.Tab(\n",
    "                    label = 'Horde',\n",
    "                    value = 'tab-2-example',\n",
    "                    className = 'custom-tab',\n",
    "                    selected_className = 'custom-tab--selected'\n",
    "                ),\n",
    "            ]),\n",
    "        \n",
    "        html.H1('Leaderboard'),\n",
    "        \n",
    "        html.Div(id = 'tabs-content-classes'),\n",
    "    \n",
    "    ]\n",
    "    ),\n",
    "    \n",
    "    html.Div(className = 'row', children = \n",
    "             [\n",
    "                 html.Div(\n",
    "                     [\n",
    "                         dcc.Graph(id = 'Region' ),\n",
    "                     ], style = {'backgroundColor': '#FFFFFF'}, className = 'six columns'\n",
    "                 ),\n",
    "                 html.Div(\n",
    "                     [\n",
    "                         dcc.Graph(id = 'Realm'),\n",
    "                     ], style = {'backgroundColor': '#FFFFFF'}, className = 'six columns'\n",
    "                 ),\n",
    "             ], style = {'backgroundColor': '#FFFFFF'}\n",
    "            ),\n",
    "    \n",
    "    html.Div(\n",
    "        [\n",
    "            dcc.Graph(id = 'Time series'),\n",
    "        ], style = {'backgroundColor': '#FFFFFF'}\n",
    "    ),\n",
    "], style = {'backgroundColor': '#D9DBDE', 'font-family': 'helvetica'}\n",
    "\n",
    ")\n",
    "\n",
    "\n",
    "  \n",
    "  \n",
    "    \n",
    "\n",
    "### Dynamically changes the background image depending on what user inputs    \n",
    "@app.callback(\n",
    "    Output('background_image', 'children'),\n",
    "    [Input(component_id = 'tabs-with-classes', component_property = 'value'),]\n",
    ")\n",
    "\n",
    "def render_image(tab):\n",
    "    if tab == 'tab-1-example':\n",
    "        return html.Img(src = 'data:image/png;base64,{}'\n",
    "                             .format(encoded_image2.decode()))\n",
    "    elif tab == 'tab-2-example':\n",
    "        return html.Img(src = 'data:image/png;base64,{}'\n",
    "                             .format(encoded_image3.decode()))\n",
    "    else:\n",
    "        return html.Img(src = 'data:image/png;base64,{}'\n",
    "                             .format(encoded_image1.decode()))\n",
    "    return html.Img(src = 'data:image/png;base64,{}'\n",
    "                             .format(encoded_image1.decode()))\n",
    "    \n",
    "\n",
    "\n",
    "### Dynamically changes the datatable depending on what user inputs    \n",
    "@app.callback(\n",
    "    Output('tabs-content-classes', 'children'),\n",
    "    [Input(component_id = 'tabs-with-classes', component_property = 'value'),\n",
    "    Input(component_id = 'Raids', component_property = 'value'),]\n",
    ")\n",
    "    \n",
    "def render_datatable(tab, raids):\n",
    "    # Tab 1\n",
    "    if (tab == 'tab-1-example') & (raids == 'U') :\n",
    "        \n",
    "        uldir_alliance = get_Data(client_ID = 'c21b7526b481437199fe2f412b267412', secret_key = 'nOiBABqC2wJF71GcWZmcShXea1tSBT4a',\n",
    "        raid = 'uldir', faction = 'alliance')\n",
    "    \n",
    "        data = uldir_alliance\n",
    "        \n",
    "        return datatable_leaderboards(data, '#95BFFF', '1px solid gold', '1px solid gold')\n",
    "    \n",
    "    elif (tab == 'tab-1-example') & (raids == 'BOD') :\n",
    "        \n",
    "        BOD_alliance = get_Data(client_ID = 'c21b7526b481437199fe2f412b267412', secret_key = 'nOiBABqC2wJF71GcWZmcShXea1tSBT4a',\n",
    "        raid = 'battle-of-dazaralor', faction = 'alliance')\n",
    "        \n",
    "        data = BOD_alliance\n",
    "        \n",
    "        return datatable_leaderboards(data, '#95BFFF', '1px solid gold', '1px solid gold')\n",
    "    \n",
    "    elif (tab == 'tab-1-example') & (raids == 'COS') :\n",
    "        \n",
    "        COS_alliance = get_Data(client_ID = 'c21b7526b481437199fe2f412b267412', secret_key = 'nOiBABqC2wJF71GcWZmcShXea1tSBT4a',\n",
    "        raid = 'crucible-of-storms', faction = 'alliance')\n",
    "        \n",
    "        data = COS_alliance\n",
    "        \n",
    "        return datatable_leaderboards(data, '#95BFFF', '1px solid gold', '1px solid gold')\n",
    "    \n",
    "    elif (tab == 'tab-1-example') & (raids == 'TEP') :\n",
    "        \n",
    "        TEP_alliance = get_Data(client_ID = 'c21b7526b481437199fe2f412b267412', secret_key = 'nOiBABqC2wJF71GcWZmcShXea1tSBT4a',\n",
    "        raid = 'the-eternal-palace', faction = 'alliance')\n",
    "        \n",
    "        data = TEP_alliance\n",
    "        \n",
    "        return datatable_leaderboards(data, '#95BFFF', '1px solid gold', '1px solid gold')\n",
    "\n",
    "    elif (tab == 'tab-1-example') & (raids == 'NTWC') :\n",
    "        \n",
    "        NTWC_alliance = get_Data(client_ID = 'c21b7526b481437199fe2f412b267412', secret_key = 'nOiBABqC2wJF71GcWZmcShXea1tSBT4a',\n",
    "        raid = 'nyalotha-the-waking-city', faction = 'alliance')\n",
    "        \n",
    "        data = NTWC_alliance\n",
    "        \n",
    "        return datatable_leaderboards(data, '#95BFFF', '1px solid gold', '1px solid gold' )\n",
    "    \n",
    "    # Tab 2\n",
    "    elif (tab == 'tab-2-example') & (raids == 'U') :\n",
    "        \n",
    "        uldir_horde = get_Data(client_ID = 'c21b7526b481437199fe2f412b267412', secret_key = 'nOiBABqC2wJF71GcWZmcShXea1tSBT4a',\n",
    "        raid = 'uldir', faction = 'horde')\n",
    "        \n",
    "        data = uldir_horde\n",
    "        \n",
    "        return datatable_leaderboards(data, '#FF959F', '1px solid blue', '1px solid blue')\n",
    "    \n",
    "    elif (tab == 'tab-2-example') & (raids == 'BOD') :\n",
    "        \n",
    "        BOD_horde = get_Data(client_ID = 'c21b7526b481437199fe2f412b267412', secret_key = 'nOiBABqC2wJF71GcWZmcShXea1tSBT4a',\n",
    "        raid = 'battle-of-dazaralor', faction = 'horde')\n",
    "        \n",
    "        data = BOD_horde\n",
    "        \n",
    "        return datatable_leaderboards(data, '#FF959F', '1px solid blue', '1px solid blue')\n",
    "    \n",
    "    elif (tab == 'tab-2-example') & (raids == 'COS') :\n",
    "        \n",
    "        COS_horde = get_Data(client_ID = 'c21b7526b481437199fe2f412b267412', secret_key = 'nOiBABqC2wJF71GcWZmcShXea1tSBT4a',\n",
    "        raid = 'crucible-of-storms', faction = 'horde')\n",
    "        \n",
    "        data = COS_horde\n",
    "        \n",
    "        return datatable_leaderboards(data, '#FF959F', '1px solid blue', '1px solid blue')\n",
    "\n",
    "    elif (tab == 'tab-2-example') & (raids == 'TEP') :\n",
    "        \n",
    "        TEP_horde = get_Data(client_ID = 'c21b7526b481437199fe2f412b267412', secret_key = 'nOiBABqC2wJF71GcWZmcShXea1tSBT4a',\n",
    "        raid = 'the-eternal-palace', faction = 'horde')\n",
    "        \n",
    "        data = TEP_horde\n",
    "        \n",
    "        return datatable_leaderboards(data, '#FF959F', '1px solid blue', '1px solid blue')\n",
    "    \n",
    "    elif (tab == 'tab-2-example') & (raids == 'NTWC') :\n",
    "        \n",
    "        NTWC_horde = get_Data(client_ID = 'c21b7526b481437199fe2f412b267412', secret_key = 'nOiBABqC2wJF71GcWZmcShXea1tSBT4a',\n",
    "        raid = 'nyalotha-the-waking-city', faction = 'horde')\n",
    "        \n",
    "        data = NTWC_horde\n",
    "        \n",
    "        return datatable_leaderboards(data, '#FF959F', '1px solid blue', '1px solid blue')\n",
    "    \n",
    "    return 'Select a faction and raid'\n",
    "\n",
    "    \n",
    "    \n",
    "### Plots\n",
    "\n",
    "\n",
    "\n",
    "### Dynamically updates the region plot given the user inputs\n",
    "\n",
    "@app.callback(\n",
    "    Output('Region', 'figure'),\n",
    "    \n",
    "    [Input( 'tabs-with-classes', 'value'),\n",
    "    Input( 'Raids', 'value'),]\n",
    "    \n",
    "    \n",
    ")\n",
    "\n",
    "    \n",
    "def callback_region(tab, raids):\n",
    "    \"\"\"Returns 3D Plots of the Clusters based on which method was selected\"\"\"\n",
    "    \n",
    "    # Tab 1\n",
    "    if (tab == 'tab-1-example') & (raids == 'U') :\n",
    "        \n",
    "        uldir_alliance = get_Data(client_ID = 'c21b7526b481437199fe2f412b267412', secret_key = 'nOiBABqC2wJF71GcWZmcShXea1tSBT4a',\n",
    "        raid = 'uldir', faction = 'alliance')\n",
    "    \n",
    "        data = uldir_alliance\n",
    "        \n",
    "        sorted_freq_region = data.assign(freq = data.groupby('Region')['Region'].transform('count'))\\\n",
    "        .sort_values(by = ['freq','Region'],ascending = [False,True]).loc[:,['Region']]\n",
    "        \n",
    "        uldir_alliance_region = bar_cluster(df = sorted_freq_region, x = 'Region',\n",
    "                        code = 'Region'  , title = 'Distribution of Regions', xaxis = 'Region')\n",
    "        \n",
    "        figure = uldir_alliance_region\n",
    "        \n",
    "        return figure\n",
    "    \n",
    "    elif (tab == 'tab-1-example') & (raids == 'BOD') :\n",
    "        \n",
    "        BOD_alliance = get_Data(client_ID = 'c21b7526b481437199fe2f412b267412', secret_key = 'nOiBABqC2wJF71GcWZmcShXea1tSBT4a',\n",
    "        raid = 'battle-of-dazaralor', faction = 'alliance')\n",
    "        \n",
    "        data = BOD_alliance\n",
    "\n",
    "        sorted_freq_region = data.assign(freq = data.groupby('Region')['Region'].transform('count'))\\\n",
    "        .sort_values(by = ['freq','Region'],ascending = [False,True]).loc[:,['Region']]\n",
    "        \n",
    "        BOD_alliance_region = bar_cluster(df = sorted_freq_region, x = 'Region',\n",
    "                        code = 'Region'  , title = 'Distribution of Regions', xaxis = 'Region')\n",
    "        \n",
    "        figure = BOD_alliance_region \n",
    "        \n",
    "        return figure\n",
    "    \n",
    "    elif (tab == 'tab-1-example') & (raids == 'COS') :\n",
    "        \n",
    "        COS_alliance = get_Data(client_ID = 'c21b7526b481437199fe2f412b267412', secret_key = 'nOiBABqC2wJF71GcWZmcShXea1tSBT4a',\n",
    "        raid = 'crucible-of-storms', faction = 'alliance')\n",
    "        \n",
    "        data = COS_alliance\n",
    "        \n",
    "        sorted_freq_region = data.assign(freq = data.groupby('Region')['Region'].transform('count'))\\\n",
    "        .sort_values(by = ['freq','Region'],ascending = [False,True]).loc[:,['Region']]\n",
    "        \n",
    "        COS_alliance_region = bar_cluster(df = sorted_freq_region, x = 'Region',\n",
    "                        code = 'Region'  , title = 'Distribution of Regions', xaxis = 'Region')\n",
    "        \n",
    "        figure = COS_alliance_region\n",
    "        \n",
    "        return figure\n",
    "    \n",
    "    elif (tab == 'tab-1-example') & (raids == 'TEP') :\n",
    "        \n",
    "        TEP_alliance = get_Data(client_ID = 'c21b7526b481437199fe2f412b267412', secret_key = 'nOiBABqC2wJF71GcWZmcShXea1tSBT4a',\n",
    "        raid = 'the-eternal-palace', faction = 'alliance')\n",
    "        \n",
    "        data = TEP_alliance\n",
    "        \n",
    "        sorted_freq_region = data.assign(freq = data.groupby('Region')['Region'].transform('count'))\\\n",
    "        .sort_values(by = ['freq','Region'],ascending = [False,True]).loc[:,['Region']]\n",
    "        \n",
    "        TEP_alliance_region = bar_cluster(df = sorted_freq_region, x = 'Region',\n",
    "                        code = 'Region'  , title = 'Distribution of Regions', xaxis = 'Region')\n",
    "        \n",
    "        figure = TEP_alliance_region\n",
    "        \n",
    "        return figure\n",
    "\n",
    "    elif (tab == 'tab-1-example') & (raids == 'NTWC') :\n",
    "        \n",
    "        NTWC_alliance = get_Data(client_ID = 'c21b7526b481437199fe2f412b267412', secret_key = 'nOiBABqC2wJF71GcWZmcShXea1tSBT4a',\n",
    "        raid = 'nyalotha-the-waking-city', faction = 'alliance')\n",
    "        \n",
    "        data = NTWC_alliance\n",
    "        \n",
    "        sorted_freq_region = data.assign(freq = data.groupby('Region')['Region'].transform('count'))\\\n",
    "        .sort_values(by = ['freq','Region'],ascending = [False,True]).loc[:,['Region']]\n",
    "        \n",
    "        NTWC_alliance_region = bar_cluster(df = sorted_freq_region, x = 'Region',\n",
    "                        code = 'Region'  , title = 'Distribution of Regions', xaxis = 'Region')\n",
    "        \n",
    "        figure = NTWC_alliance_region\n",
    "        \n",
    "        return figure\n",
    "    \n",
    "    # Tab 2\n",
    "    elif (tab == 'tab-2-example') & (raids == 'U') :\n",
    "        \n",
    "        uldir_horde = get_Data(client_ID = 'c21b7526b481437199fe2f412b267412', secret_key = 'nOiBABqC2wJF71GcWZmcShXea1tSBT4a',\n",
    "        raid = 'uldir', faction = 'horde')\n",
    "        \n",
    "        data = uldir_horde\n",
    "        \n",
    "        sorted_freq_region = data.assign(freq = data.groupby('Region')['Region'].transform('count'))\\\n",
    "        .sort_values(by = ['freq','Region'],ascending = [False,True]).loc[:,['Region']]\n",
    "        \n",
    "        uldir_horde_region = bar_cluster(df = sorted_freq_region, x = 'Region',\n",
    "                        code = 'Region'  , title = 'Distribution of Regions', xaxis = 'Region')\n",
    "        \n",
    "        figure = uldir_horde_region\n",
    "        \n",
    "        return figure\n",
    "    \n",
    "    elif (tab == 'tab-2-example') & (raids == 'BOD') :\n",
    "        \n",
    "        BOD_horde = get_Data(client_ID = 'c21b7526b481437199fe2f412b267412', secret_key = 'nOiBABqC2wJF71GcWZmcShXea1tSBT4a',\n",
    "        raid = 'battle-of-dazaralor', faction = 'horde')\n",
    "        \n",
    "        data = BOD_horde\n",
    "        \n",
    "        sorted_freq_region = data.assign(freq = data.groupby('Region')['Region'].transform('count'))\\\n",
    "        .sort_values(by = ['freq','Region'],ascending = [False,True]).loc[:,['Region']]\n",
    "        \n",
    "        BOD_horde_region = bar_cluster(df = sorted_freq_region, x = 'Region',\n",
    "                        code = 'Region'  , title = 'Distribution of Regions', xaxis = 'Region')\n",
    "        \n",
    "        figure = BOD_horde_region\n",
    "        \n",
    "        return figure\n",
    "    \n",
    "    elif (tab == 'tab-2-example') & (raids == 'COS') :\n",
    "        \n",
    "        COS_horde = get_Data(client_ID = 'c21b7526b481437199fe2f412b267412', secret_key = 'nOiBABqC2wJF71GcWZmcShXea1tSBT4a',\n",
    "        raid = 'crucible-of-storms', faction = 'horde')\n",
    "        \n",
    "        data = COS_horde\n",
    "        \n",
    "        sorted_freq_region = data.assign(freq = data.groupby('Region')['Region'].transform('count'))\\\n",
    "        .sort_values(by = ['freq','Region'],ascending = [False,True]).loc[:,['Region']]\n",
    "        \n",
    "        COS_horde_region = bar_cluster(df = sorted_freq_region, x = 'Region',\n",
    "                        code = 'Region'  , title = 'Distribution of Regions', xaxis = 'Region')\n",
    "        figure = COS_horde_region\n",
    "        \n",
    "        return figure\n",
    "\n",
    "    elif (tab == 'tab-2-example') & (raids == 'TEP') :\n",
    "        \n",
    "        TEP_horde = get_Data(client_ID = 'c21b7526b481437199fe2f412b267412', secret_key = 'nOiBABqC2wJF71GcWZmcShXea1tSBT4a',\n",
    "        raid = 'the-eternal-palace', faction = 'horde')\n",
    "        \n",
    "        data = TEP_horde\n",
    "        \n",
    "        sorted_freq_region = data.assign(freq = data.groupby('Region')['Region'].transform('count'))\\\n",
    "        .sort_values(by = ['freq','Region'],ascending = [False,True]).loc[:,['Region']]\n",
    "        \n",
    "        TEP_horde_region = bar_cluster(df = sorted_freq_region, x = 'Region',\n",
    "                        code = 'Region'  , title = 'Distribution of Regions', xaxis = 'Region')\n",
    "        \n",
    "        figure = TEP_horde_region\n",
    "        \n",
    "        return figure\n",
    "    \n",
    "    elif (tab == 'tab-2-example') & (raids == 'NTWC') :\n",
    "        \n",
    "        NTWC_horde = get_Data(client_ID = 'c21b7526b481437199fe2f412b267412', secret_key = 'nOiBABqC2wJF71GcWZmcShXea1tSBT4a',\n",
    "        raid = 'nyalotha-the-waking-city', faction = 'horde')\n",
    "        \n",
    "        data = NTWC_horde\n",
    "        \n",
    "        sorted_freq_region = data.assign(freq = data.groupby('Region')['Region'].transform('count'))\\\n",
    "        .sort_values(by = ['freq','Region'],ascending = [False,True]).loc[:,['Region']]\n",
    "        \n",
    "        NTWC_horde_region = bar_cluster(df = sorted_freq_region, x = 'Region',\n",
    "                        code = 'Region'  , title = 'Distribution of Regions', xaxis = 'Region')\n",
    "        \n",
    "        figure = NTWC_horde_region\n",
    "        \n",
    "        return figure\n",
    "    \n",
    "    return 'Select a faction and raid.'\n",
    "\n",
    "\n",
    "    \n",
    "### Dynamically updates the realm plot given the user's inputs    \n",
    "@app.callback(\n",
    "    Output('Realm', 'figure'),\n",
    "    \n",
    "    [Input(component_id = 'tabs-with-classes', component_property = 'value'),\n",
    "    Input(component_id = 'Raids', component_property = 'value'),]\n",
    "    \n",
    ")\n",
    "def callback_realm(tab, raids):\n",
    "\n",
    "    \n",
    "    # Tab 1\n",
    "        # Tab 1\n",
    "    if (tab == 'tab-1-example') & (raids == 'U') :\n",
    "        \n",
    "        uldir_alliance = get_Data(client_ID = 'c21b7526b481437199fe2f412b267412', secret_key = 'nOiBABqC2wJF71GcWZmcShXea1tSBT4a',\n",
    "        raid = 'uldir', faction = 'alliance')\n",
    "    \n",
    "        data = uldir_alliance\n",
    "        \n",
    "        sorted_freq_realm = data.assign(freq = data.groupby('Realm')['Realm'].transform('count'))\\\n",
    "        .sort_values(by = ['freq','Realm'],ascending = [False,True]).loc[:,['Realm']]\n",
    "        \n",
    "        uldir_alliance_realm = bar_cluster(df = sorted_freq_realm, x = 'Realm',\n",
    "                        code = 'Realm'  , title = 'Distribution of Realms', xaxis = 'Realm')\n",
    "        \n",
    "        figure = uldir_alliance_realm\n",
    "        \n",
    "        return figure\n",
    "    \n",
    "    elif (tab == 'tab-1-example') & (raids == 'BOD') :\n",
    "        \n",
    "        BOD_alliance = get_Data(client_ID = 'c21b7526b481437199fe2f412b267412', secret_key = 'nOiBABqC2wJF71GcWZmcShXea1tSBT4a',\n",
    "        raid = 'battle-of-dazaralor', faction = 'alliance')\n",
    "        \n",
    "        data = BOD_alliance\n",
    "\n",
    "        sorted_freq_realm = data.assign(freq = data.groupby('Realm')['Realm'].transform('count'))\\\n",
    "        .sort_values(by = ['freq','Realm'],ascending = [False,True]).loc[:,['Realm']]\n",
    "        \n",
    "        BOD_alliance_realm = bar_cluster(df = sorted_freq_realm, x = 'Realm',\n",
    "                        code = 'Realm'  , title = 'Distribution of Realms', xaxis = 'Realm')\n",
    "        \n",
    "        figure = BOD_alliance_realm \n",
    "        \n",
    "        return figure\n",
    "    \n",
    "    elif (tab == 'tab-1-example') & (raids == 'COS') :\n",
    "        \n",
    "        COS_alliance = get_Data(client_ID = 'c21b7526b481437199fe2f412b267412', secret_key = 'nOiBABqC2wJF71GcWZmcShXea1tSBT4a',\n",
    "        raid = 'crucible-of-storms', faction = 'alliance')\n",
    "        \n",
    "        data = COS_alliance\n",
    "        \n",
    "        sorted_freq_realm = data.assign(freq = data.groupby('Realm')['Realm'].transform('count'))\\\n",
    "        .sort_values(by = ['freq','Realm'],ascending = [False,True]).loc[:,['Realm']]\n",
    "        \n",
    "        COS_alliance_realm = bar_cluster(df = sorted_freq_realm, x = 'Realm',\n",
    "                        code = 'Realm'  , title = 'Distribution of Realms', xaxis = 'Realm')\n",
    "        \n",
    "        figure = COS_alliance_realm\n",
    "        \n",
    "        return figure\n",
    "    \n",
    "    elif (tab == 'tab-1-example') & (raids == 'TEP') :\n",
    "        \n",
    "        TEP_alliance = get_Data(client_ID = 'c21b7526b481437199fe2f412b267412', secret_key = 'nOiBABqC2wJF71GcWZmcShXea1tSBT4a',\n",
    "        raid = 'the-eternal-palace', faction = 'alliance')\n",
    "        \n",
    "        data = TEP_alliance\n",
    "        \n",
    "        sorted_freq_realm = data.assign(freq = data.groupby('Realm')['Realm'].transform('count'))\\\n",
    "        .sort_values(by = ['freq','Realm'],ascending = [False,True]).loc[:,['Realm']]\n",
    "        \n",
    "        TEP_alliance_realm = bar_cluster(df = sorted_freq_realm, x = 'Realm',\n",
    "                        code = 'Realm'  , title = 'Distribution of Realms', xaxis = 'Realm')\n",
    "        \n",
    "        figure = TEP_alliance_realm\n",
    "        \n",
    "        return figure\n",
    "\n",
    "    elif (tab == 'tab-1-example') & (raids == 'NTWC') :\n",
    "        \n",
    "        NTWC_alliance = get_Data(client_ID = 'c21b7526b481437199fe2f412b267412', secret_key = 'nOiBABqC2wJF71GcWZmcShXea1tSBT4a',\n",
    "        raid = 'nyalotha-the-waking-city', faction = 'alliance')\n",
    "        \n",
    "        data = NTWC_alliance\n",
    "        \n",
    "        sorted_freq_realm = data.assign(freq = data.groupby('Realm')['Realm'].transform('count'))\\\n",
    "        .sort_values(by = ['freq','Realm'],ascending = [False,True]).loc[:,['Realm']]\n",
    "        \n",
    "        NTWC_alliance_realm = bar_cluster(df = sorted_freq_realm, x = 'Realm',\n",
    "                        code = 'Realm'  , title = 'Distribution of Realms', xaxis = 'Realm')\n",
    "        \n",
    "        figure = NTWC_alliance_realm\n",
    "        \n",
    "        return figure\n",
    "    \n",
    "    # Tab 2\n",
    "    elif (tab == 'tab-2-example') & (raids == 'U') :\n",
    "        \n",
    "        uldir_horde = get_Data(client_ID = 'c21b7526b481437199fe2f412b267412', secret_key = 'nOiBABqC2wJF71GcWZmcShXea1tSBT4a',\n",
    "        raid = 'uldir', faction = 'horde')\n",
    "        \n",
    "        data = uldir_horde\n",
    "        \n",
    "        sorted_freq_realm = data.assign(freq = data.groupby('Realm')['Realm'].transform('count'))\\\n",
    "        .sort_values(by = ['freq','Realm'],ascending = [False,True]).loc[:,['Realm']]\n",
    "        \n",
    "        uldir_horde_realm = bar_cluster(df = sorted_freq_realm, x = 'Realm',\n",
    "                        code = 'Realm'  , title = 'Distribution of Realms', xaxis = 'Realm')\n",
    "        \n",
    "        figure = uldir_horde_realm \n",
    "        \n",
    "        return figure\n",
    "    \n",
    "    elif (tab == 'tab-2-example') & (raids == 'BOD') :\n",
    "        \n",
    "        BOD_horde = get_Data(client_ID = 'c21b7526b481437199fe2f412b267412', secret_key = 'nOiBABqC2wJF71GcWZmcShXea1tSBT4a',\n",
    "        raid = 'battle-of-dazaralor', faction = 'horde')\n",
    "        \n",
    "        data = BOD_horde\n",
    "        \n",
    "        sorted_freq_realm = data.assign(freq = data.groupby('Realm')['Realm'].transform('count'))\\\n",
    "        .sort_values(by = ['freq','Realm'],ascending = [False,True]).loc[:,['Realm']]\n",
    "        \n",
    "        BOD_horde_realm = bar_cluster(df = sorted_freq_realm, x = 'Realm',\n",
    "                        code = 'Realm'  , title = 'Distribution of Realms', xaxis = 'Realm')\n",
    "        \n",
    "        figure = BOD_horde_realm\n",
    "        \n",
    "        return figure\n",
    "    \n",
    "    elif (tab == 'tab-2-example') & (raids == 'COS') :\n",
    "        \n",
    "        COS_horde = get_Data(client_ID = 'c21b7526b481437199fe2f412b267412', secret_key = 'nOiBABqC2wJF71GcWZmcShXea1tSBT4a',\n",
    "        raid = 'crucible-of-storms', faction = 'horde')\n",
    "        \n",
    "        data = COS_horde\n",
    "        \n",
    "        sorted_freq_realm = data.assign(freq = data.groupby('Realm')['Realm'].transform('count'))\\\n",
    "        .sort_values(by = ['freq','Realm'],ascending = [False,True]).loc[:,['Realm']]\n",
    "        \n",
    "        COS_horde_realm = bar_cluster(df = sorted_freq_realm, x = 'Realm',\n",
    "                        code = 'Realm'  , title = 'Distribution of Realms', xaxis = 'Realm')\n",
    "        \n",
    "        figure = COS_horde_realm \n",
    "        \n",
    "        return figure\n",
    "\n",
    "    elif (tab == 'tab-2-example') & (raids == 'TEP') :\n",
    "        \n",
    "        TEP_horde = get_Data(client_ID = 'c21b7526b481437199fe2f412b267412', secret_key = 'nOiBABqC2wJF71GcWZmcShXea1tSBT4a',\n",
    "        raid = 'the-eternal-palace', faction = 'horde')\n",
    "        \n",
    "        data = TEP_horde\n",
    "        \n",
    "        sorted_freq_realm = data.assign(freq = data.groupby('Realm')['Realm'].transform('count'))\\\n",
    "        .sort_values(by = ['freq','Realm'],ascending = [False,True]).loc[:,['Realm']]\n",
    "        \n",
    "        TEP_horde_realm = bar_cluster(df = sorted_freq_realm, x = 'Realm',\n",
    "                        code = 'Realm'  , title = 'Distribution of Realms', xaxis = 'Realm')\n",
    "        \n",
    "        figure = TEP_horde_realm\n",
    "        \n",
    "        return figure\n",
    "    \n",
    "    elif (tab == 'tab-2-example') & (raids == 'NTWC') :\n",
    "        \n",
    "        NTWC_horde = get_Data(client_ID = 'c21b7526b481437199fe2f412b267412', secret_key = 'nOiBABqC2wJF71GcWZmcShXea1tSBT4a',\n",
    "        raid = 'nyalotha-the-waking-city', faction = 'horde')\n",
    "        \n",
    "        data = NTWC_horde\n",
    "        \n",
    "        sorted_freq_realm = data.assign(freq = data.groupby('Realm')['Realm'].transform('count'))\\\n",
    "        .sort_values(by = ['freq','Realm'],ascending = [False,True]).loc[:,['Realm']]\n",
    "        \n",
    "        \n",
    "        NTWC_horde_realm = bar_cluster(df = sorted_freq_realm, x = 'Realm',\n",
    "                        code = 'Realm', title = 'Distribution of Realms', xaxis = 'Realm')\n",
    "        \n",
    "        figure = NTWC_horde_realm\n",
    "        \n",
    "        return figure\n",
    "    \n",
    "    return 'Select a faction and raid.'\n",
    "\n",
    "\n",
    "\n",
    "### Dynamically updates the time series plot given the user's inputs\n",
    "@app.callback(\n",
    "    Output('Time series', 'figure'),\n",
    "    [Input(component_id = 'tabs-with-classes', component_property = 'value'),\n",
    "    Input(component_id = 'Raids', component_property = 'value'),]\n",
    ")\n",
    "\n",
    "def callback_timeseries(tab, raids):\n",
    "\n",
    "    \n",
    "    # Tab 1\n",
    "    if (tab == 'tab-1-example') & (raids == 'U') :\n",
    "        \n",
    "        uldir_alliance = get_Data(client_ID = 'c21b7526b481437199fe2f412b267412', secret_key = 'nOiBABqC2wJF71GcWZmcShXea1tSBT4a',\n",
    "        raid = 'uldir', faction = 'alliance')\n",
    "    \n",
    "        data = uldir_alliance\n",
    "        \n",
    "        figure = timeseries(df = data, x = data['Date'],\n",
    "                   y = data['Rank'], code = data['Region'],\n",
    "                   title = 'Mythic Raid Leaderboard Time series', xaxis = 'Date')\n",
    "    \n",
    "        return figure\n",
    "    \n",
    "    elif (tab == 'tab-1-example') & (raids == 'BOD') :\n",
    "        \n",
    "        BOD_alliance = get_Data(client_ID = 'c21b7526b481437199fe2f412b267412', secret_key = 'nOiBABqC2wJF71GcWZmcShXea1tSBT4a',\n",
    "        raid = 'battle-of-dazaralor', faction = 'alliance')\n",
    "        \n",
    "        data = BOD_alliance\n",
    "\n",
    "        figure = timeseries(df = data, x = data['Date'],\n",
    "                   y = data['Rank'], code = data['Region'],\n",
    "                   title = 'Mythic Raid Leaderboard Time series', xaxis = 'Date')\n",
    "        \n",
    "        return figure\n",
    "    \n",
    "    elif (tab == 'tab-1-example') & (raids == 'COS') :\n",
    "        \n",
    "        COS_alliance = get_Data(client_ID = 'c21b7526b481437199fe2f412b267412', secret_key = 'nOiBABqC2wJF71GcWZmcShXea1tSBT4a',\n",
    "        raid = 'crucible-of-storms', faction = 'alliance')\n",
    "        \n",
    "        data = COS_alliance\n",
    "        \n",
    "        figure = timeseries(df = data, x = data['Date'],\n",
    "                   y = data['Rank'], code = data['Region'],\n",
    "                   title = 'Mythic Raid Leaderboard Time series', xaxis = 'Date')\n",
    "        \n",
    "        return figure\n",
    "    \n",
    "    elif (tab == 'tab-1-example') & (raids == 'TEP') :\n",
    "        \n",
    "        TEP_alliance = get_Data(client_ID = 'c21b7526b481437199fe2f412b267412', secret_key = 'nOiBABqC2wJF71GcWZmcShXea1tSBT4a',\n",
    "        raid = 'the-eternal-palace', faction = 'alliance')\n",
    "        \n",
    "        data = TEP_alliance\n",
    "        \n",
    "        figure = timeseries(df = data, x = data['Date'],\n",
    "                   y = data['Rank'], code = data['Region'],\n",
    "                   title = 'Mythic Raid Leaderboard Time series', xaxis = 'Date')\n",
    "        \n",
    "        return figure\n",
    "\n",
    "    elif (tab == 'tab-1-example') & (raids == 'NTWC') :\n",
    "        \n",
    "        NTWC_alliance = get_Data(client_ID = 'c21b7526b481437199fe2f412b267412', secret_key = 'nOiBABqC2wJF71GcWZmcShXea1tSBT4a',\n",
    "        raid = 'nyalotha-the-waking-city', faction = 'alliance')\n",
    "        \n",
    "        data = NTWC_alliance\n",
    "        \n",
    "        figure = timeseries(df = data, x = data['Date'],\n",
    "                   y = data['Rank'], code = data['Region'],\n",
    "                   title = 'Mythic Raid Leaderboard Time series', xaxis = 'Date')\n",
    "        \n",
    "        return figure\n",
    "    \n",
    "    # Tab 2\n",
    "    elif (tab == 'tab-2-example') & (raids == 'U') :\n",
    "        \n",
    "        uldir_horde = get_Data(client_ID = 'c21b7526b481437199fe2f412b267412', secret_key = 'nOiBABqC2wJF71GcWZmcShXea1tSBT4a',\n",
    "        raid = 'uldir', faction = 'horde')\n",
    "        \n",
    "        data = uldir_horde\n",
    "        \n",
    "        figure = timeseries(df = data, x = data['Date'],\n",
    "                   y = data['Rank'], code = data['Region'],\n",
    "                   title = 'Mythic Raid Leaderboard Time series', xaxis = 'Date')\n",
    "    \n",
    "        return figure\n",
    "    \n",
    "    elif (tab == 'tab-2-example') & (raids == 'BOD') :\n",
    "        \n",
    "        BOD_horde = get_Data(client_ID = 'c21b7526b481437199fe2f412b267412', secret_key = 'nOiBABqC2wJF71GcWZmcShXea1tSBT4a',\n",
    "        raid = 'battle-of-dazaralor', faction = 'horde')\n",
    "        \n",
    "        data = BOD_horde\n",
    "        \n",
    "        figure = timeseries(df = data, x = data['Date'],\n",
    "                   y = data['Rank'], code = data['Region'],\n",
    "                   title = 'Mythic Raid Leaderboard Time series', xaxis = 'Date')\n",
    "        \n",
    "        return figure\n",
    "    \n",
    "    elif (tab == 'tab-2-example') & (raids == 'COS') :\n",
    "        \n",
    "        COS_horde = get_Data(client_ID = 'c21b7526b481437199fe2f412b267412', secret_key = 'nOiBABqC2wJF71GcWZmcShXea1tSBT4a',\n",
    "        raid = 'crucible-of-storms', faction = 'horde')\n",
    "        \n",
    "        data = COS_horde\n",
    "        \n",
    "        figure = timeseries(df = data, x = data['Date'],\n",
    "                   y = data['Rank'], code = data['Region'],\n",
    "                   title = 'Mythic Raid Leaderboard Time series', xaxis = 'Date')\n",
    "        \n",
    "        return figure\n",
    "\n",
    "    elif (tab == 'tab-2-example') & (raids == 'TEP') :\n",
    "        \n",
    "        TEP_horde = get_Data(client_ID = 'c21b7526b481437199fe2f412b267412', secret_key = 'nOiBABqC2wJF71GcWZmcShXea1tSBT4a',\n",
    "        raid = 'the-eternal-palace', faction = 'horde')\n",
    "        \n",
    "        data = TEP_horde\n",
    "        \n",
    "        figure = timeseries(df = data, x = data['Date'],\n",
    "                   y = data['Rank'], code = data['Region'],\n",
    "                   title = 'Mythic Raid Leaderboard Time series', xaxis = 'Date')\n",
    "        \n",
    "        return figure\n",
    "    \n",
    "    elif (tab == 'tab-2-example') & (raids == 'NTWC') :\n",
    "        \n",
    "        NTWC_horde = get_Data(client_ID = 'c21b7526b481437199fe2f412b267412', secret_key = 'nOiBABqC2wJF71GcWZmcShXea1tSBT4a',\n",
    "        raid = 'nyalotha-the-waking-city', faction = 'horde')\n",
    "        \n",
    "        data = NTWC_horde\n",
    "        \n",
    "        figure = timeseries(df = data, x = data['Date'],\n",
    "                   y = data['Rank'], code = data['Region'],\n",
    "                   title = 'Mythic Raid Leaderboard Time series', xaxis = 'Date')\n",
    "        \n",
    "        return figure\n",
    "    \n",
    "    return 'Select a faction and raid.'\n",
    "    \n",
    "if __name__ == '__main__':\n",
    "    app.run_server(debug = False)"
   ]
  },
  {
   "cell_type": "code",
   "execution_count": null,
   "metadata": {},
   "outputs": [],
   "source": []
  }
 ],
 "metadata": {
  "kernelspec": {
   "display_name": "Python 3",
   "language": "python",
   "name": "python3"
  },
  "language_info": {
   "codemirror_mode": {
    "name": "ipython",
    "version": 3
   },
   "file_extension": ".py",
   "mimetype": "text/x-python",
   "name": "python",
   "nbconvert_exporter": "python",
   "pygments_lexer": "ipython3",
   "version": "3.7.4"
  }
 },
 "nbformat": 4,
 "nbformat_minor": 2
}
